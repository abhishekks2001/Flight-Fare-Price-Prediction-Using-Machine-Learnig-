{
 "cells": [
  {
   "cell_type": "markdown",
   "id": "c1147c80",
   "metadata": {},
   "source": [
    "#                                        FLIGHT FARE PRICE PREDICTION"
   ]
  },
  {
   "cell_type": "markdown",
   "id": "d2557d5d",
   "metadata": {},
   "source": [
    "### INTRODUCTION\n",
    " - Air flight transportation plays a crucial role in connecting people and goods across the globe, offering a fast and efficient means of travel. It has become an integral part of modern society, facilitating business, tourism, and trade. \n",
    "\n",
    "- The Indian aviation industry has experienced remarkable growth over the past decade. From being a luxury accessible to a privileged few, it has become the third-largest domestic market globally. The number of operational airports has risen from 74 to 140 in eight years, with plans for 220 airports in the next five year\n",
    "\n",
    "- This project uses machine learning techniques to predict flight ticket price in advance so that customers can save money or make personal financial budget allocation for their flight journey also compare price of different flights to make better decesions.\n",
    "\n"
   ]
  },
  {
   "cell_type": "markdown",
   "id": "57774231",
   "metadata": {},
   "source": [
    "### OBJECTIVE\n",
    " - The objective of the Flight Ticket Price Prediction project is to develop an accurate and efficient model that can predict   airfare based on various input features by Leveraging machine learning algorithms and historical flight data, the project aims to create a predictive model."
   ]
  },
  {
   "cell_type": "markdown",
   "id": "cdd7ff96",
   "metadata": {},
   "source": [
    "### RELEVENCE\n",
    " - A Flight Ticket Price Prediction Model project is relevant for providing travelers with accurate forecasts of airfare costs, enabling better budget planning and decision-making. It enhances user experience, empowers consumers, and offers valuable market insights to the aviation industry for optimizing pricing strategies and revenue management. The project's data-driven approach contributes to transparency, efficiency, and improved satisfaction in the air travel ecosystem.\n"
   ]
  },
  {
   "cell_type": "markdown",
   "id": "7c4003b7",
   "metadata": {},
   "source": [
    "### IMPORTING LIBRARIES"
   ]
  },
  {
   "cell_type": "code",
   "execution_count": 104,
   "id": "9f99e77e",
   "metadata": {},
   "outputs": [],
   "source": [
    "import pandas as pd\n",
    "from sklearn.preprocessing import LabelEncoder,MinMaxScaler,StandardScaler\n",
    "from sklearn.model_selection import train_test_split\n",
    "from matplotlib import pyplot as plt\n",
    "import seaborn as sns\n",
    "from sklearn.linear_model import LinearRegression\n",
    "from sklearn.neighbors import KNeighborsRegressor\n",
    "from sklearn.tree import DecisionTreeRegressor\n",
    "from sklearn import tree\n",
    "from sklearn.ensemble import RandomForestRegressor\n",
    "from sklearn.ensemble import AdaBoostRegressor\n",
    "from sklearn.ensemble import GradientBoostingRegressor\n",
    "from xgboost import XGBRegressor\n",
    "from sklearn.model_selection import KFold,StratifiedKFold\n",
    "from sklearn.model_selection import GridSearchCV\n",
    "import warnings\n",
    "from sklearn.svm import SVR\n",
    "\n",
    "warnings.filterwarnings(\"ignore\")\n",
    "import numpy as np"
   ]
  },
  {
   "cell_type": "markdown",
   "id": "43b06d1a",
   "metadata": {},
   "source": [
    "### READING DATA"
   ]
  },
  {
   "cell_type": "code",
   "execution_count": 105,
   "id": "7c427a37",
   "metadata": {},
   "outputs": [],
   "source": [
    "data=pd.read_csv(\"fly_file.csv\")"
   ]
  },
  {
   "cell_type": "code",
   "execution_count": 106,
   "id": "88708491",
   "metadata": {},
   "outputs": [
    {
     "data": {
      "text/html": [
       "<div>\n",
       "<style scoped>\n",
       "    .dataframe tbody tr th:only-of-type {\n",
       "        vertical-align: middle;\n",
       "    }\n",
       "\n",
       "    .dataframe tbody tr th {\n",
       "        vertical-align: top;\n",
       "    }\n",
       "\n",
       "    .dataframe thead th {\n",
       "        text-align: right;\n",
       "    }\n",
       "</style>\n",
       "<table border=\"1\" class=\"dataframe\">\n",
       "  <thead>\n",
       "    <tr style=\"text-align: right;\">\n",
       "      <th></th>\n",
       "      <th>Airline</th>\n",
       "      <th>Date_of_Journey</th>\n",
       "      <th>Source</th>\n",
       "      <th>Destination</th>\n",
       "      <th>Route</th>\n",
       "      <th>Dep_Time</th>\n",
       "      <th>Arrival_Time</th>\n",
       "      <th>Duration</th>\n",
       "      <th>Total_Stops</th>\n",
       "      <th>Additional_Info</th>\n",
       "      <th>Price</th>\n",
       "    </tr>\n",
       "  </thead>\n",
       "  <tbody>\n",
       "    <tr>\n",
       "      <th>0</th>\n",
       "      <td>IndiGo</td>\n",
       "      <td>24/03/2018</td>\n",
       "      <td>Banglore</td>\n",
       "      <td>New Delhi</td>\n",
       "      <td>BLR ? DEL</td>\n",
       "      <td>22:20</td>\n",
       "      <td>01:10 22 Mar</td>\n",
       "      <td>2h 50m</td>\n",
       "      <td>non-stop</td>\n",
       "      <td>No info</td>\n",
       "      <td>3897</td>\n",
       "    </tr>\n",
       "    <tr>\n",
       "      <th>1</th>\n",
       "      <td>Air India</td>\n",
       "      <td>01/05/2018</td>\n",
       "      <td>Kolkata</td>\n",
       "      <td>Banglore</td>\n",
       "      <td>CCU ? IXR ? BBI ? BLR</td>\n",
       "      <td>05:50</td>\n",
       "      <td>13:15</td>\n",
       "      <td>7h 25m</td>\n",
       "      <td>2 stops</td>\n",
       "      <td>No info</td>\n",
       "      <td>7662</td>\n",
       "    </tr>\n",
       "    <tr>\n",
       "      <th>2</th>\n",
       "      <td>Jet Airways</td>\n",
       "      <td>09/06/2018</td>\n",
       "      <td>Delhi</td>\n",
       "      <td>Cochin</td>\n",
       "      <td>DEL ? LKO ? BOM ? COK</td>\n",
       "      <td>09:25</td>\n",
       "      <td>04:25 10 Jun</td>\n",
       "      <td>19h</td>\n",
       "      <td>2 stops</td>\n",
       "      <td>No info</td>\n",
       "      <td>13882</td>\n",
       "    </tr>\n",
       "    <tr>\n",
       "      <th>3</th>\n",
       "      <td>IndiGo</td>\n",
       "      <td>12/05/2018</td>\n",
       "      <td>Kolkata</td>\n",
       "      <td>Banglore</td>\n",
       "      <td>CCU ? NAG ? BLR</td>\n",
       "      <td>18:05</td>\n",
       "      <td>23:30</td>\n",
       "      <td>5h 25m</td>\n",
       "      <td>1 stop</td>\n",
       "      <td>No info</td>\n",
       "      <td>6218</td>\n",
       "    </tr>\n",
       "    <tr>\n",
       "      <th>4</th>\n",
       "      <td>IndiGo</td>\n",
       "      <td>01/03/2018</td>\n",
       "      <td>Banglore</td>\n",
       "      <td>New Delhi</td>\n",
       "      <td>BLR ? NAG ? DEL</td>\n",
       "      <td>16:50</td>\n",
       "      <td>21:35</td>\n",
       "      <td>4h 45m</td>\n",
       "      <td>1 stop</td>\n",
       "      <td>No info</td>\n",
       "      <td>13302</td>\n",
       "    </tr>\n",
       "    <tr>\n",
       "      <th>...</th>\n",
       "      <td>...</td>\n",
       "      <td>...</td>\n",
       "      <td>...</td>\n",
       "      <td>...</td>\n",
       "      <td>...</td>\n",
       "      <td>...</td>\n",
       "      <td>...</td>\n",
       "      <td>...</td>\n",
       "      <td>...</td>\n",
       "      <td>...</td>\n",
       "      <td>...</td>\n",
       "    </tr>\n",
       "    <tr>\n",
       "      <th>21361</th>\n",
       "      <td>Air Asia</td>\n",
       "      <td>9/04/2019</td>\n",
       "      <td>Kolkata</td>\n",
       "      <td>Banglore</td>\n",
       "      <td>CCU ? BLR</td>\n",
       "      <td>19:55</td>\n",
       "      <td>22:25</td>\n",
       "      <td>2h 30m</td>\n",
       "      <td>non-stop</td>\n",
       "      <td>No info</td>\n",
       "      <td>4107</td>\n",
       "    </tr>\n",
       "    <tr>\n",
       "      <th>21362</th>\n",
       "      <td>Air India</td>\n",
       "      <td>27/04/2019</td>\n",
       "      <td>Kolkata</td>\n",
       "      <td>Banglore</td>\n",
       "      <td>CCU ? BLR</td>\n",
       "      <td>20:45</td>\n",
       "      <td>23:20</td>\n",
       "      <td>2h 35m</td>\n",
       "      <td>non-stop</td>\n",
       "      <td>No info</td>\n",
       "      <td>4145</td>\n",
       "    </tr>\n",
       "    <tr>\n",
       "      <th>21363</th>\n",
       "      <td>Jet Airways</td>\n",
       "      <td>27/04/2019</td>\n",
       "      <td>Banglore</td>\n",
       "      <td>Delhi</td>\n",
       "      <td>BLR ? DEL</td>\n",
       "      <td>08:20</td>\n",
       "      <td>11:20</td>\n",
       "      <td>3h</td>\n",
       "      <td>non-stop</td>\n",
       "      <td>No info</td>\n",
       "      <td>7229</td>\n",
       "    </tr>\n",
       "    <tr>\n",
       "      <th>21364</th>\n",
       "      <td>Vistara</td>\n",
       "      <td>01/03/2019</td>\n",
       "      <td>Banglore</td>\n",
       "      <td>New Delhi</td>\n",
       "      <td>BLR ? DEL</td>\n",
       "      <td>11:30</td>\n",
       "      <td>14:10</td>\n",
       "      <td>2h 40m</td>\n",
       "      <td>non-stop</td>\n",
       "      <td>No info</td>\n",
       "      <td>12648</td>\n",
       "    </tr>\n",
       "    <tr>\n",
       "      <th>21365</th>\n",
       "      <td>Air India</td>\n",
       "      <td>9/05/2019</td>\n",
       "      <td>Delhi</td>\n",
       "      <td>Cochin</td>\n",
       "      <td>DEL ? GOI ? BOM ? COK</td>\n",
       "      <td>10:55</td>\n",
       "      <td>19:15</td>\n",
       "      <td>8h 20m</td>\n",
       "      <td>2 stops</td>\n",
       "      <td>No info</td>\n",
       "      <td>11753</td>\n",
       "    </tr>\n",
       "  </tbody>\n",
       "</table>\n",
       "<p>21366 rows × 11 columns</p>\n",
       "</div>"
      ],
      "text/plain": [
       "           Airline Date_of_Journey    Source Destination  \\\n",
       "0           IndiGo      24/03/2018  Banglore   New Delhi   \n",
       "1        Air India      01/05/2018   Kolkata    Banglore   \n",
       "2      Jet Airways      09/06/2018     Delhi      Cochin   \n",
       "3           IndiGo      12/05/2018   Kolkata    Banglore   \n",
       "4           IndiGo      01/03/2018  Banglore   New Delhi   \n",
       "...            ...             ...       ...         ...   \n",
       "21361     Air Asia       9/04/2019   Kolkata    Banglore   \n",
       "21362    Air India      27/04/2019   Kolkata    Banglore   \n",
       "21363  Jet Airways      27/04/2019  Banglore       Delhi   \n",
       "21364      Vistara      01/03/2019  Banglore   New Delhi   \n",
       "21365    Air India       9/05/2019     Delhi      Cochin   \n",
       "\n",
       "                       Route Dep_Time  Arrival_Time Duration Total_Stops  \\\n",
       "0                  BLR ? DEL    22:20  01:10 22 Mar   2h 50m    non-stop   \n",
       "1      CCU ? IXR ? BBI ? BLR    05:50         13:15   7h 25m     2 stops   \n",
       "2      DEL ? LKO ? BOM ? COK    09:25  04:25 10 Jun      19h     2 stops   \n",
       "3            CCU ? NAG ? BLR    18:05         23:30   5h 25m      1 stop   \n",
       "4            BLR ? NAG ? DEL    16:50         21:35   4h 45m      1 stop   \n",
       "...                      ...      ...           ...      ...         ...   \n",
       "21361              CCU ? BLR    19:55         22:25   2h 30m    non-stop   \n",
       "21362              CCU ? BLR    20:45         23:20   2h 35m    non-stop   \n",
       "21363              BLR ? DEL    08:20         11:20       3h    non-stop   \n",
       "21364              BLR ? DEL    11:30         14:10   2h 40m    non-stop   \n",
       "21365  DEL ? GOI ? BOM ? COK    10:55         19:15   8h 20m     2 stops   \n",
       "\n",
       "      Additional_Info  Price  \n",
       "0             No info   3897  \n",
       "1             No info   7662  \n",
       "2             No info  13882  \n",
       "3             No info   6218  \n",
       "4             No info  13302  \n",
       "...               ...    ...  \n",
       "21361         No info   4107  \n",
       "21362         No info   4145  \n",
       "21363         No info   7229  \n",
       "21364         No info  12648  \n",
       "21365         No info  11753  \n",
       "\n",
       "[21366 rows x 11 columns]"
      ]
     },
     "execution_count": 106,
     "metadata": {},
     "output_type": "execute_result"
    }
   ],
   "source": [
    "data"
   ]
  },
  {
   "cell_type": "code",
   "execution_count": 107,
   "id": "44ca3981",
   "metadata": {},
   "outputs": [
    {
     "name": "stdout",
     "output_type": "stream",
     "text": [
      "<class 'pandas.core.frame.DataFrame'>\n",
      "RangeIndex: 21366 entries, 0 to 21365\n",
      "Data columns (total 11 columns):\n",
      " #   Column           Non-Null Count  Dtype \n",
      "---  ------           --------------  ----- \n",
      " 0   Airline          21366 non-null  object\n",
      " 1   Date_of_Journey  21366 non-null  object\n",
      " 2   Source           21366 non-null  object\n",
      " 3   Destination      21366 non-null  object\n",
      " 4   Route            21364 non-null  object\n",
      " 5   Dep_Time         21366 non-null  object\n",
      " 6   Arrival_Time     21366 non-null  object\n",
      " 7   Duration         21366 non-null  object\n",
      " 8   Total_Stops      21364 non-null  object\n",
      " 9   Additional_Info  21366 non-null  object\n",
      " 10  Price            21366 non-null  int64 \n",
      "dtypes: int64(1), object(10)\n",
      "memory usage: 1.8+ MB\n"
     ]
    }
   ],
   "source": [
    "data.info()"
   ]
  },
  {
   "cell_type": "markdown",
   "id": "ab4f68d0",
   "metadata": {},
   "source": [
    "### CHECKING NULL VALUES"
   ]
  },
  {
   "cell_type": "code",
   "execution_count": 108,
   "id": "c2141a86",
   "metadata": {},
   "outputs": [
    {
     "data": {
      "text/plain": [
       "Airline            0\n",
       "Date_of_Journey    0\n",
       "Source             0\n",
       "Destination        0\n",
       "Route              2\n",
       "Dep_Time           0\n",
       "Arrival_Time       0\n",
       "Duration           0\n",
       "Total_Stops        2\n",
       "Additional_Info    0\n",
       "Price              0\n",
       "dtype: int64"
      ]
     },
     "execution_count": 108,
     "metadata": {},
     "output_type": "execute_result"
    }
   ],
   "source": [
    "data.isnull().sum()"
   ]
  },
  {
   "cell_type": "code",
   "execution_count": 109,
   "id": "b0bd7cf3",
   "metadata": {},
   "outputs": [
    {
     "data": {
      "text/plain": [
       "Airline            0\n",
       "Date_of_Journey    0\n",
       "Source             0\n",
       "Destination        0\n",
       "Route              0\n",
       "Dep_Time           0\n",
       "Arrival_Time       0\n",
       "Duration           0\n",
       "Total_Stops        0\n",
       "Additional_Info    0\n",
       "Price              0\n",
       "dtype: int64"
      ]
     },
     "execution_count": 109,
     "metadata": {},
     "output_type": "execute_result"
    }
   ],
   "source": [
    "#DROPING NULL VALUES\n",
    "data.dropna(inplace=True)\n",
    "data.isnull().sum()"
   ]
  },
  {
   "cell_type": "code",
   "execution_count": 110,
   "id": "bb21c173",
   "metadata": {},
   "outputs": [
    {
     "data": {
      "text/html": [
       "<div>\n",
       "<style scoped>\n",
       "    .dataframe tbody tr th:only-of-type {\n",
       "        vertical-align: middle;\n",
       "    }\n",
       "\n",
       "    .dataframe tbody tr th {\n",
       "        vertical-align: top;\n",
       "    }\n",
       "\n",
       "    .dataframe thead th {\n",
       "        text-align: right;\n",
       "    }\n",
       "</style>\n",
       "<table border=\"1\" class=\"dataframe\">\n",
       "  <thead>\n",
       "    <tr style=\"text-align: right;\">\n",
       "      <th></th>\n",
       "      <th>Airline</th>\n",
       "      <th>Date_of_Journey</th>\n",
       "      <th>Source</th>\n",
       "      <th>Destination</th>\n",
       "      <th>Route</th>\n",
       "      <th>Dep_Time</th>\n",
       "      <th>Arrival_Time</th>\n",
       "      <th>Duration</th>\n",
       "      <th>Total_Stops</th>\n",
       "      <th>Additional_Info</th>\n",
       "      <th>Price</th>\n",
       "    </tr>\n",
       "  </thead>\n",
       "  <tbody>\n",
       "    <tr>\n",
       "      <th>0</th>\n",
       "      <td>IndiGo</td>\n",
       "      <td>24/03/2018</td>\n",
       "      <td>Banglore</td>\n",
       "      <td>New Delhi</td>\n",
       "      <td>BLR ? DEL</td>\n",
       "      <td>22:20</td>\n",
       "      <td>01:10 22 Mar</td>\n",
       "      <td>2h 50m</td>\n",
       "      <td>non-stop</td>\n",
       "      <td>No info</td>\n",
       "      <td>3897</td>\n",
       "    </tr>\n",
       "    <tr>\n",
       "      <th>1</th>\n",
       "      <td>Air India</td>\n",
       "      <td>01/05/2018</td>\n",
       "      <td>Kolkata</td>\n",
       "      <td>Banglore</td>\n",
       "      <td>CCU ? IXR ? BBI ? BLR</td>\n",
       "      <td>05:50</td>\n",
       "      <td>13:15</td>\n",
       "      <td>7h 25m</td>\n",
       "      <td>2 stops</td>\n",
       "      <td>No info</td>\n",
       "      <td>7662</td>\n",
       "    </tr>\n",
       "    <tr>\n",
       "      <th>2</th>\n",
       "      <td>Jet Airways</td>\n",
       "      <td>09/06/2018</td>\n",
       "      <td>Delhi</td>\n",
       "      <td>Cochin</td>\n",
       "      <td>DEL ? LKO ? BOM ? COK</td>\n",
       "      <td>09:25</td>\n",
       "      <td>04:25 10 Jun</td>\n",
       "      <td>19h</td>\n",
       "      <td>2 stops</td>\n",
       "      <td>No info</td>\n",
       "      <td>13882</td>\n",
       "    </tr>\n",
       "    <tr>\n",
       "      <th>3</th>\n",
       "      <td>IndiGo</td>\n",
       "      <td>12/05/2018</td>\n",
       "      <td>Kolkata</td>\n",
       "      <td>Banglore</td>\n",
       "      <td>CCU ? NAG ? BLR</td>\n",
       "      <td>18:05</td>\n",
       "      <td>23:30</td>\n",
       "      <td>5h 25m</td>\n",
       "      <td>1 stop</td>\n",
       "      <td>No info</td>\n",
       "      <td>6218</td>\n",
       "    </tr>\n",
       "    <tr>\n",
       "      <th>4</th>\n",
       "      <td>IndiGo</td>\n",
       "      <td>01/03/2018</td>\n",
       "      <td>Banglore</td>\n",
       "      <td>New Delhi</td>\n",
       "      <td>BLR ? NAG ? DEL</td>\n",
       "      <td>16:50</td>\n",
       "      <td>21:35</td>\n",
       "      <td>4h 45m</td>\n",
       "      <td>1 stop</td>\n",
       "      <td>No info</td>\n",
       "      <td>13302</td>\n",
       "    </tr>\n",
       "    <tr>\n",
       "      <th>...</th>\n",
       "      <td>...</td>\n",
       "      <td>...</td>\n",
       "      <td>...</td>\n",
       "      <td>...</td>\n",
       "      <td>...</td>\n",
       "      <td>...</td>\n",
       "      <td>...</td>\n",
       "      <td>...</td>\n",
       "      <td>...</td>\n",
       "      <td>...</td>\n",
       "      <td>...</td>\n",
       "    </tr>\n",
       "    <tr>\n",
       "      <th>21361</th>\n",
       "      <td>Air Asia</td>\n",
       "      <td>9/04/2019</td>\n",
       "      <td>Kolkata</td>\n",
       "      <td>Banglore</td>\n",
       "      <td>CCU ? BLR</td>\n",
       "      <td>19:55</td>\n",
       "      <td>22:25</td>\n",
       "      <td>2h 30m</td>\n",
       "      <td>non-stop</td>\n",
       "      <td>No info</td>\n",
       "      <td>4107</td>\n",
       "    </tr>\n",
       "    <tr>\n",
       "      <th>21362</th>\n",
       "      <td>Air India</td>\n",
       "      <td>27/04/2019</td>\n",
       "      <td>Kolkata</td>\n",
       "      <td>Banglore</td>\n",
       "      <td>CCU ? BLR</td>\n",
       "      <td>20:45</td>\n",
       "      <td>23:20</td>\n",
       "      <td>2h 35m</td>\n",
       "      <td>non-stop</td>\n",
       "      <td>No info</td>\n",
       "      <td>4145</td>\n",
       "    </tr>\n",
       "    <tr>\n",
       "      <th>21363</th>\n",
       "      <td>Jet Airways</td>\n",
       "      <td>27/04/2019</td>\n",
       "      <td>Banglore</td>\n",
       "      <td>Delhi</td>\n",
       "      <td>BLR ? DEL</td>\n",
       "      <td>08:20</td>\n",
       "      <td>11:20</td>\n",
       "      <td>3h</td>\n",
       "      <td>non-stop</td>\n",
       "      <td>No info</td>\n",
       "      <td>7229</td>\n",
       "    </tr>\n",
       "    <tr>\n",
       "      <th>21364</th>\n",
       "      <td>Vistara</td>\n",
       "      <td>01/03/2019</td>\n",
       "      <td>Banglore</td>\n",
       "      <td>New Delhi</td>\n",
       "      <td>BLR ? DEL</td>\n",
       "      <td>11:30</td>\n",
       "      <td>14:10</td>\n",
       "      <td>2h 40m</td>\n",
       "      <td>non-stop</td>\n",
       "      <td>No info</td>\n",
       "      <td>12648</td>\n",
       "    </tr>\n",
       "    <tr>\n",
       "      <th>21365</th>\n",
       "      <td>Air India</td>\n",
       "      <td>9/05/2019</td>\n",
       "      <td>Delhi</td>\n",
       "      <td>Cochin</td>\n",
       "      <td>DEL ? GOI ? BOM ? COK</td>\n",
       "      <td>10:55</td>\n",
       "      <td>19:15</td>\n",
       "      <td>8h 20m</td>\n",
       "      <td>2 stops</td>\n",
       "      <td>No info</td>\n",
       "      <td>11753</td>\n",
       "    </tr>\n",
       "  </tbody>\n",
       "</table>\n",
       "<p>21364 rows × 11 columns</p>\n",
       "</div>"
      ],
      "text/plain": [
       "           Airline Date_of_Journey    Source Destination  \\\n",
       "0           IndiGo      24/03/2018  Banglore   New Delhi   \n",
       "1        Air India      01/05/2018   Kolkata    Banglore   \n",
       "2      Jet Airways      09/06/2018     Delhi      Cochin   \n",
       "3           IndiGo      12/05/2018   Kolkata    Banglore   \n",
       "4           IndiGo      01/03/2018  Banglore   New Delhi   \n",
       "...            ...             ...       ...         ...   \n",
       "21361     Air Asia       9/04/2019   Kolkata    Banglore   \n",
       "21362    Air India      27/04/2019   Kolkata    Banglore   \n",
       "21363  Jet Airways      27/04/2019  Banglore       Delhi   \n",
       "21364      Vistara      01/03/2019  Banglore   New Delhi   \n",
       "21365    Air India       9/05/2019     Delhi      Cochin   \n",
       "\n",
       "                       Route Dep_Time  Arrival_Time Duration Total_Stops  \\\n",
       "0                  BLR ? DEL    22:20  01:10 22 Mar   2h 50m    non-stop   \n",
       "1      CCU ? IXR ? BBI ? BLR    05:50         13:15   7h 25m     2 stops   \n",
       "2      DEL ? LKO ? BOM ? COK    09:25  04:25 10 Jun      19h     2 stops   \n",
       "3            CCU ? NAG ? BLR    18:05         23:30   5h 25m      1 stop   \n",
       "4            BLR ? NAG ? DEL    16:50         21:35   4h 45m      1 stop   \n",
       "...                      ...      ...           ...      ...         ...   \n",
       "21361              CCU ? BLR    19:55         22:25   2h 30m    non-stop   \n",
       "21362              CCU ? BLR    20:45         23:20   2h 35m    non-stop   \n",
       "21363              BLR ? DEL    08:20         11:20       3h    non-stop   \n",
       "21364              BLR ? DEL    11:30         14:10   2h 40m    non-stop   \n",
       "21365  DEL ? GOI ? BOM ? COK    10:55         19:15   8h 20m     2 stops   \n",
       "\n",
       "      Additional_Info  Price  \n",
       "0             No info   3897  \n",
       "1             No info   7662  \n",
       "2             No info  13882  \n",
       "3             No info   6218  \n",
       "4             No info  13302  \n",
       "...               ...    ...  \n",
       "21361         No info   4107  \n",
       "21362         No info   4145  \n",
       "21363         No info   7229  \n",
       "21364         No info  12648  \n",
       "21365         No info  11753  \n",
       "\n",
       "[21364 rows x 11 columns]"
      ]
     },
     "execution_count": 110,
     "metadata": {},
     "output_type": "execute_result"
    }
   ],
   "source": [
    "data"
   ]
  },
  {
   "cell_type": "markdown",
   "id": "bf9eed16",
   "metadata": {},
   "source": [
    "## DATA VISUALISATION "
   ]
  },
  {
   "cell_type": "code",
   "execution_count": 111,
   "id": "4c181d87",
   "metadata": {},
   "outputs": [],
   "source": [
    "# Removing Jet airways business rows from dataset since we are only predicting onomy class ticket\n",
    "#also it will be a outlier toour model\n",
    "\n",
    "data = data[data[\"Airline\"] != \"Jet Airways Business\"]\n"
   ]
  },
  {
   "cell_type": "code",
   "execution_count": 112,
   "id": "bc6ff2d5",
   "metadata": {},
   "outputs": [
    {
     "name": "stdout",
     "output_type": "stream",
     "text": [
      "                              Airline         Price\n",
      "4                         Jet Airways  11643.923357\n",
      "6   Multiple carriers Premium economy  11418.846154\n",
      "5                   Multiple carriers  10902.678094\n",
      "1                           Air India   9612.427756\n",
      "10            Vistara Premium economy   8962.333333\n",
      "9                             Vistara   7796.348643\n",
      "2                               GoAir   5861.056701\n",
      "3                              IndiGo   5673.682903\n",
      "0                            Air Asia   5590.260188\n",
      "7                            SpiceJet   4338.284841\n",
      "8                              Trujet   4140.000000\n"
     ]
    }
   ],
   "source": [
    "average_prices = data.groupby('Airline')['Price'].mean().reset_index()\n",
    "average_prices = average_prices.sort_values('Price', ascending=False)\n",
    "\n",
    "# Display the DataFrame\n",
    "print(average_prices)"
   ]
  },
  {
   "cell_type": "code",
   "execution_count": 113,
   "id": "cb73d4dd",
   "metadata": {},
   "outputs": [
    {
     "data": {
      "text/plain": [
       "Text(0.5, 1.0, 'Average Price of Each Airline')"
      ]
     },
     "execution_count": 113,
     "metadata": {},
     "output_type": "execute_result"
    },
    {
     "data": {
      "image/png": "[encoded data removed]",
      "text/plain": [
       "<Figure size 800x600 with 1 Axes>"
      ]
     },
     "metadata": {},
     "output_type": "display_data"
    }
   ],
   "source": [
    "# Average Prices of Every Airlines\n",
    "\n",
    "plt.figure(figsize=(8, 6))  # Adjust the figure size if needed\n",
    "sns.barplot(x='Airline', y='Price', data=average_prices, palette='viridis')\n",
    "plt.xticks(rotation=45, ha='right', rotation_mode='anchor')\n",
    "\n",
    "# Add labels and title\n",
    "plt.xlabel('Airline')\n",
    "plt.ylabel('Average Price')\n",
    "plt.title('Average Price of Each Airline')\n"
   ]
  },
  {
   "cell_type": "markdown",
   "id": "4784f639",
   "metadata": {},
   "source": [
    "Jet Airways has highest average price "
   ]
  },
  {
   "cell_type": "code",
   "execution_count": 114,
   "id": "747768cf",
   "metadata": {},
   "outputs": [
    {
     "data": {
      "image/png": "[encoded data removed]",
      "text/plain": [
       "<Figure size 640x480 with 1 Axes>"
      ]
     },
     "metadata": {},
     "output_type": "display_data"
    }
   ],
   "source": [
    "sns.barplot(x='Source', y='Price', data=data)\n",
    "plt.xlabel('Boarding Point')\n",
    "plt.ylabel('Average Price')\n",
    "plt.title('Average Airline Price by Boarding Point')\n",
    "plt.show()"
   ]
  },
  {
   "cell_type": "markdown",
   "id": "603afe23",
   "metadata": {},
   "source": [
    "flights boarding from delhi are more expensive than flights from other boarding points"
   ]
  },
  {
   "cell_type": "code",
   "execution_count": 115,
   "id": "215637b0",
   "metadata": {},
   "outputs": [
    {
     "data": {
      "text/plain": [
       "Source\n",
       "Delhi       9068\n",
       "Kolkata     5742\n",
       "Banglore    4386\n",
       "Mumbai      1394\n",
       "Chennai      762\n",
       "Name: count, dtype: int64"
      ]
     },
     "execution_count": 115,
     "metadata": {},
     "output_type": "execute_result"
    }
   ],
   "source": [
    "data[\"Source\"].value_counts()"
   ]
  },
  {
   "cell_type": "code",
   "execution_count": 116,
   "id": "7a5b72ca",
   "metadata": {},
   "outputs": [
    {
     "data": {
      "image/png": "[encoded data removed]",
      "text/plain": [
       "<Figure size 600x400 with 1 Axes>"
      ]
     },
     "metadata": {},
     "output_type": "display_data"
    }
   ],
   "source": [
    "flight_counts = data['Source'].value_counts()\n",
    "plt.figure(figsize=(6,4))  \n",
    "sns.barplot(x=flight_counts.index, y=flight_counts.values)\n",
    "plt.xlabel('Source Points')\n",
    "plt.ylabel('Number of Flights Boarded')\n",
    "plt.title('Number of Flights Boarded from Different Source Points')\n",
    "plt.show()"
   ]
  },
  {
   "cell_type": "markdown",
   "id": "14445851",
   "metadata": {},
   "source": [
    "The highest number of flights depart from Delhi followed by kolkata and Banglore"
   ]
  },
  {
   "cell_type": "code",
   "execution_count": 117,
   "id": "bc435591",
   "metadata": {},
   "outputs": [
    {
     "data": {
      "image/png": "[encoded data removed]",
      "text/plain": [
       "<Figure size 640x480 with 1 Axes>"
      ]
     },
     "metadata": {},
     "output_type": "display_data"
    }
   ],
   "source": [
    "plt.scatter(data[\"Duration\"],data[\"Price\"])\n",
    "\n",
    "\n",
    "plt.xlabel('Flight Duration (hours)')\n",
    "plt.ylabel('Ticket Price ')\n",
    "plt.title('Flight Duration vs Ticket Price')\n",
    "\n",
    "# Display the plot\n",
    "plt.show()"
   ]
  },
  {
   "cell_type": "markdown",
   "id": "28bb5e6c",
   "metadata": {},
   "source": [
    "From this graph we can understand that price of flight ticket is not incresing as the duration is increasing.So, duration has less influence in price feature"
   ]
  },
  {
   "cell_type": "code",
   "execution_count": 118,
   "id": "fa5cde39",
   "metadata": {},
   "outputs": [
    {
     "data": {
      "image/png": "[encoded data removed]",
      "text/plain": [
       "<Figure size 600x400 with 1 Axes>"
      ]
     },
     "metadata": {},
     "output_type": "display_data"
    }
   ],
   "source": [
    "stops_counts = data['Total_Stops'].value_counts()\n",
    "plt.figure(figsize=(6,4))  \n",
    "sns.barplot(x=stops_counts.index, y=stops_counts.values)\n",
    "plt.xlabel('no of stops')\n",
    "plt.ylabel('Count')\n",
    "plt.title('Total stops during the journey')\n",
    "plt.show()"
   ]
  },
  {
   "cell_type": "markdown",
   "id": "209a4909",
   "metadata": {},
   "source": [
    "Majority of flights have one stop or are non_stop between the journey"
   ]
  },
  {
   "cell_type": "code",
   "execution_count": null,
   "id": "dfabdc1d",
   "metadata": {},
   "outputs": [],
   "source": [
    "\n"
   ]
  },
  {
   "cell_type": "code",
   "execution_count": 119,
   "id": "0be557b4",
   "metadata": {},
   "outputs": [
    {
     "data": {
      "text/html": [
       "<div>\n",
       "<style scoped>\n",
       "    .dataframe tbody tr th:only-of-type {\n",
       "        vertical-align: middle;\n",
       "    }\n",
       "\n",
       "    .dataframe tbody tr th {\n",
       "        vertical-align: top;\n",
       "    }\n",
       "\n",
       "    .dataframe thead th {\n",
       "        text-align: right;\n",
       "    }\n",
       "</style>\n",
       "<table border=\"1\" class=\"dataframe\">\n",
       "  <thead>\n",
       "    <tr style=\"text-align: right;\">\n",
       "      <th></th>\n",
       "      <th>Airline</th>\n",
       "      <th>Date_of_Journey</th>\n",
       "      <th>Source</th>\n",
       "      <th>Destination</th>\n",
       "      <th>Route</th>\n",
       "      <th>Dep_Time</th>\n",
       "      <th>Arrival_Time</th>\n",
       "      <th>Duration</th>\n",
       "      <th>Total_Stops</th>\n",
       "      <th>Additional_Info</th>\n",
       "      <th>Price</th>\n",
       "    </tr>\n",
       "  </thead>\n",
       "  <tbody>\n",
       "    <tr>\n",
       "      <th>0</th>\n",
       "      <td>IndiGo</td>\n",
       "      <td>24/03/2018</td>\n",
       "      <td>Banglore</td>\n",
       "      <td>New Delhi</td>\n",
       "      <td>BLR ? DEL</td>\n",
       "      <td>22:20</td>\n",
       "      <td>01:10 22 Mar</td>\n",
       "      <td>2h 50m</td>\n",
       "      <td>non-stop</td>\n",
       "      <td>No info</td>\n",
       "      <td>3897</td>\n",
       "    </tr>\n",
       "    <tr>\n",
       "      <th>1</th>\n",
       "      <td>Air India</td>\n",
       "      <td>01/05/2018</td>\n",
       "      <td>Kolkata</td>\n",
       "      <td>Banglore</td>\n",
       "      <td>CCU ? IXR ? BBI ? BLR</td>\n",
       "      <td>05:50</td>\n",
       "      <td>13:15</td>\n",
       "      <td>7h 25m</td>\n",
       "      <td>2 stops</td>\n",
       "      <td>No info</td>\n",
       "      <td>7662</td>\n",
       "    </tr>\n",
       "    <tr>\n",
       "      <th>2</th>\n",
       "      <td>Jet Airways</td>\n",
       "      <td>09/06/2018</td>\n",
       "      <td>Delhi</td>\n",
       "      <td>Cochin</td>\n",
       "      <td>DEL ? LKO ? BOM ? COK</td>\n",
       "      <td>09:25</td>\n",
       "      <td>04:25 10 Jun</td>\n",
       "      <td>19h</td>\n",
       "      <td>2 stops</td>\n",
       "      <td>No info</td>\n",
       "      <td>13882</td>\n",
       "    </tr>\n",
       "    <tr>\n",
       "      <th>3</th>\n",
       "      <td>IndiGo</td>\n",
       "      <td>12/05/2018</td>\n",
       "      <td>Kolkata</td>\n",
       "      <td>Banglore</td>\n",
       "      <td>CCU ? NAG ? BLR</td>\n",
       "      <td>18:05</td>\n",
       "      <td>23:30</td>\n",
       "      <td>5h 25m</td>\n",
       "      <td>1 stop</td>\n",
       "      <td>No info</td>\n",
       "      <td>6218</td>\n",
       "    </tr>\n",
       "    <tr>\n",
       "      <th>4</th>\n",
       "      <td>IndiGo</td>\n",
       "      <td>01/03/2018</td>\n",
       "      <td>Banglore</td>\n",
       "      <td>New Delhi</td>\n",
       "      <td>BLR ? NAG ? DEL</td>\n",
       "      <td>16:50</td>\n",
       "      <td>21:35</td>\n",
       "      <td>4h 45m</td>\n",
       "      <td>1 stop</td>\n",
       "      <td>No info</td>\n",
       "      <td>13302</td>\n",
       "    </tr>\n",
       "    <tr>\n",
       "      <th>...</th>\n",
       "      <td>...</td>\n",
       "      <td>...</td>\n",
       "      <td>...</td>\n",
       "      <td>...</td>\n",
       "      <td>...</td>\n",
       "      <td>...</td>\n",
       "      <td>...</td>\n",
       "      <td>...</td>\n",
       "      <td>...</td>\n",
       "      <td>...</td>\n",
       "      <td>...</td>\n",
       "    </tr>\n",
       "    <tr>\n",
       "      <th>21361</th>\n",
       "      <td>Air Asia</td>\n",
       "      <td>9/04/2019</td>\n",
       "      <td>Kolkata</td>\n",
       "      <td>Banglore</td>\n",
       "      <td>CCU ? BLR</td>\n",
       "      <td>19:55</td>\n",
       "      <td>22:25</td>\n",
       "      <td>2h 30m</td>\n",
       "      <td>non-stop</td>\n",
       "      <td>No info</td>\n",
       "      <td>4107</td>\n",
       "    </tr>\n",
       "    <tr>\n",
       "      <th>21362</th>\n",
       "      <td>Air India</td>\n",
       "      <td>27/04/2019</td>\n",
       "      <td>Kolkata</td>\n",
       "      <td>Banglore</td>\n",
       "      <td>CCU ? BLR</td>\n",
       "      <td>20:45</td>\n",
       "      <td>23:20</td>\n",
       "      <td>2h 35m</td>\n",
       "      <td>non-stop</td>\n",
       "      <td>No info</td>\n",
       "      <td>4145</td>\n",
       "    </tr>\n",
       "    <tr>\n",
       "      <th>21363</th>\n",
       "      <td>Jet Airways</td>\n",
       "      <td>27/04/2019</td>\n",
       "      <td>Banglore</td>\n",
       "      <td>Delhi</td>\n",
       "      <td>BLR ? DEL</td>\n",
       "      <td>08:20</td>\n",
       "      <td>11:20</td>\n",
       "      <td>3h</td>\n",
       "      <td>non-stop</td>\n",
       "      <td>No info</td>\n",
       "      <td>7229</td>\n",
       "    </tr>\n",
       "    <tr>\n",
       "      <th>21364</th>\n",
       "      <td>Vistara</td>\n",
       "      <td>01/03/2019</td>\n",
       "      <td>Banglore</td>\n",
       "      <td>New Delhi</td>\n",
       "      <td>BLR ? DEL</td>\n",
       "      <td>11:30</td>\n",
       "      <td>14:10</td>\n",
       "      <td>2h 40m</td>\n",
       "      <td>non-stop</td>\n",
       "      <td>No info</td>\n",
       "      <td>12648</td>\n",
       "    </tr>\n",
       "    <tr>\n",
       "      <th>21365</th>\n",
       "      <td>Air India</td>\n",
       "      <td>9/05/2019</td>\n",
       "      <td>Delhi</td>\n",
       "      <td>Cochin</td>\n",
       "      <td>DEL ? GOI ? BOM ? COK</td>\n",
       "      <td>10:55</td>\n",
       "      <td>19:15</td>\n",
       "      <td>8h 20m</td>\n",
       "      <td>2 stops</td>\n",
       "      <td>No info</td>\n",
       "      <td>11753</td>\n",
       "    </tr>\n",
       "  </tbody>\n",
       "</table>\n",
       "<p>21352 rows × 11 columns</p>\n",
       "</div>"
      ],
      "text/plain": [
       "           Airline Date_of_Journey    Source Destination  \\\n",
       "0           IndiGo      24/03/2018  Banglore   New Delhi   \n",
       "1        Air India      01/05/2018   Kolkata    Banglore   \n",
       "2      Jet Airways      09/06/2018     Delhi      Cochin   \n",
       "3           IndiGo      12/05/2018   Kolkata    Banglore   \n",
       "4           IndiGo      01/03/2018  Banglore   New Delhi   \n",
       "...            ...             ...       ...         ...   \n",
       "21361     Air Asia       9/04/2019   Kolkata    Banglore   \n",
       "21362    Air India      27/04/2019   Kolkata    Banglore   \n",
       "21363  Jet Airways      27/04/2019  Banglore       Delhi   \n",
       "21364      Vistara      01/03/2019  Banglore   New Delhi   \n",
       "21365    Air India       9/05/2019     Delhi      Cochin   \n",
       "\n",
       "                       Route Dep_Time  Arrival_Time Duration Total_Stops  \\\n",
       "0                  BLR ? DEL    22:20  01:10 22 Mar   2h 50m    non-stop   \n",
       "1      CCU ? IXR ? BBI ? BLR    05:50         13:15   7h 25m     2 stops   \n",
       "2      DEL ? LKO ? BOM ? COK    09:25  04:25 10 Jun      19h     2 stops   \n",
       "3            CCU ? NAG ? BLR    18:05         23:30   5h 25m      1 stop   \n",
       "4            BLR ? NAG ? DEL    16:50         21:35   4h 45m      1 stop   \n",
       "...                      ...      ...           ...      ...         ...   \n",
       "21361              CCU ? BLR    19:55         22:25   2h 30m    non-stop   \n",
       "21362              CCU ? BLR    20:45         23:20   2h 35m    non-stop   \n",
       "21363              BLR ? DEL    08:20         11:20       3h    non-stop   \n",
       "21364              BLR ? DEL    11:30         14:10   2h 40m    non-stop   \n",
       "21365  DEL ? GOI ? BOM ? COK    10:55         19:15   8h 20m     2 stops   \n",
       "\n",
       "      Additional_Info  Price  \n",
       "0             No info   3897  \n",
       "1             No info   7662  \n",
       "2             No info  13882  \n",
       "3             No info   6218  \n",
       "4             No info  13302  \n",
       "...               ...    ...  \n",
       "21361         No info   4107  \n",
       "21362         No info   4145  \n",
       "21363         No info   7229  \n",
       "21364         No info  12648  \n",
       "21365         No info  11753  \n",
       "\n",
       "[21352 rows x 11 columns]"
      ]
     },
     "execution_count": 119,
     "metadata": {},
     "output_type": "execute_result"
    }
   ],
   "source": [
    "data"
   ]
  },
  {
   "cell_type": "markdown",
   "id": "b9b01acb",
   "metadata": {},
   "source": [
    "## 1. DATA CLEANING - Total Stops"
   ]
  },
  {
   "cell_type": "code",
   "execution_count": 120,
   "id": "fae978a2",
   "metadata": {},
   "outputs": [
    {
     "data": {
      "text/plain": [
       "array(['non-stop', '2 stops', '1 stop', '3 stops', '4 stops'],\n",
       "      dtype=object)"
      ]
     },
     "execution_count": 120,
     "metadata": {},
     "output_type": "execute_result"
    }
   ],
   "source": [
    "data[\"Total_Stops\"].unique()"
   ]
  },
  {
   "cell_type": "code",
   "execution_count": 121,
   "id": "b01f9a3c",
   "metadata": {},
   "outputs": [
    {
     "name": "stdout",
     "output_type": "stream",
     "text": [
      "<class 'pandas.core.series.Series'>\n",
      "Index: 21352 entries, 0 to 21365\n",
      "Series name: Total_Stops\n",
      "Non-Null Count  Dtype \n",
      "--------------  ----- \n",
      "21352 non-null  object\n",
      "dtypes: object(1)\n",
      "memory usage: 333.6+ KB\n"
     ]
    }
   ],
   "source": [
    "data[\"Total_Stops\"].info()"
   ]
  },
  {
   "cell_type": "code",
   "execution_count": 122,
   "id": "9c310c7a",
   "metadata": {},
   "outputs": [],
   "source": [
    "data[\"Total_Stops\"]=data[\"Total_Stops\"].replace({\"non-stop\":0,\"1 stop\":1,\"2 stops\":2,\"3 stops\":3,\"4 stops\":4})"
   ]
  },
  {
   "cell_type": "code",
   "execution_count": 123,
   "id": "29ff6fd8",
   "metadata": {},
   "outputs": [
    {
     "data": {
      "text/html": [
       "<div>\n",
       "<style scoped>\n",
       "    .dataframe tbody tr th:only-of-type {\n",
       "        vertical-align: middle;\n",
       "    }\n",
       "\n",
       "    .dataframe tbody tr th {\n",
       "        vertical-align: top;\n",
       "    }\n",
       "\n",
       "    .dataframe thead th {\n",
       "        text-align: right;\n",
       "    }\n",
       "</style>\n",
       "<table border=\"1\" class=\"dataframe\">\n",
       "  <thead>\n",
       "    <tr style=\"text-align: right;\">\n",
       "      <th></th>\n",
       "      <th>Airline</th>\n",
       "      <th>Date_of_Journey</th>\n",
       "      <th>Source</th>\n",
       "      <th>Destination</th>\n",
       "      <th>Route</th>\n",
       "      <th>Dep_Time</th>\n",
       "      <th>Arrival_Time</th>\n",
       "      <th>Duration</th>\n",
       "      <th>Total_Stops</th>\n",
       "      <th>Additional_Info</th>\n",
       "      <th>Price</th>\n",
       "    </tr>\n",
       "  </thead>\n",
       "  <tbody>\n",
       "    <tr>\n",
       "      <th>0</th>\n",
       "      <td>IndiGo</td>\n",
       "      <td>24/03/2018</td>\n",
       "      <td>Banglore</td>\n",
       "      <td>New Delhi</td>\n",
       "      <td>BLR ? DEL</td>\n",
       "      <td>22:20</td>\n",
       "      <td>01:10 22 Mar</td>\n",
       "      <td>2h 50m</td>\n",
       "      <td>0</td>\n",
       "      <td>No info</td>\n",
       "      <td>3897</td>\n",
       "    </tr>\n",
       "    <tr>\n",
       "      <th>1</th>\n",
       "      <td>Air India</td>\n",
       "      <td>01/05/2018</td>\n",
       "      <td>Kolkata</td>\n",
       "      <td>Banglore</td>\n",
       "      <td>CCU ? IXR ? BBI ? BLR</td>\n",
       "      <td>05:50</td>\n",
       "      <td>13:15</td>\n",
       "      <td>7h 25m</td>\n",
       "      <td>2</td>\n",
       "      <td>No info</td>\n",
       "      <td>7662</td>\n",
       "    </tr>\n",
       "    <tr>\n",
       "      <th>2</th>\n",
       "      <td>Jet Airways</td>\n",
       "      <td>09/06/2018</td>\n",
       "      <td>Delhi</td>\n",
       "      <td>Cochin</td>\n",
       "      <td>DEL ? LKO ? BOM ? COK</td>\n",
       "      <td>09:25</td>\n",
       "      <td>04:25 10 Jun</td>\n",
       "      <td>19h</td>\n",
       "      <td>2</td>\n",
       "      <td>No info</td>\n",
       "      <td>13882</td>\n",
       "    </tr>\n",
       "    <tr>\n",
       "      <th>3</th>\n",
       "      <td>IndiGo</td>\n",
       "      <td>12/05/2018</td>\n",
       "      <td>Kolkata</td>\n",
       "      <td>Banglore</td>\n",
       "      <td>CCU ? NAG ? BLR</td>\n",
       "      <td>18:05</td>\n",
       "      <td>23:30</td>\n",
       "      <td>5h 25m</td>\n",
       "      <td>1</td>\n",
       "      <td>No info</td>\n",
       "      <td>6218</td>\n",
       "    </tr>\n",
       "    <tr>\n",
       "      <th>4</th>\n",
       "      <td>IndiGo</td>\n",
       "      <td>01/03/2018</td>\n",
       "      <td>Banglore</td>\n",
       "      <td>New Delhi</td>\n",
       "      <td>BLR ? NAG ? DEL</td>\n",
       "      <td>16:50</td>\n",
       "      <td>21:35</td>\n",
       "      <td>4h 45m</td>\n",
       "      <td>1</td>\n",
       "      <td>No info</td>\n",
       "      <td>13302</td>\n",
       "    </tr>\n",
       "  </tbody>\n",
       "</table>\n",
       "</div>"
      ],
      "text/plain": [
       "       Airline Date_of_Journey    Source Destination                  Route  \\\n",
       "0       IndiGo      24/03/2018  Banglore   New Delhi              BLR ? DEL   \n",
       "1    Air India      01/05/2018   Kolkata    Banglore  CCU ? IXR ? BBI ? BLR   \n",
       "2  Jet Airways      09/06/2018     Delhi      Cochin  DEL ? LKO ? BOM ? COK   \n",
       "3       IndiGo      12/05/2018   Kolkata    Banglore        CCU ? NAG ? BLR   \n",
       "4       IndiGo      01/03/2018  Banglore   New Delhi        BLR ? NAG ? DEL   \n",
       "\n",
       "  Dep_Time  Arrival_Time Duration  Total_Stops Additional_Info  Price  \n",
       "0    22:20  01:10 22 Mar   2h 50m            0         No info   3897  \n",
       "1    05:50         13:15   7h 25m            2         No info   7662  \n",
       "2    09:25  04:25 10 Jun      19h            2         No info  13882  \n",
       "3    18:05         23:30   5h 25m            1         No info   6218  \n",
       "4    16:50         21:35   4h 45m            1         No info  13302  "
      ]
     },
     "execution_count": 123,
     "metadata": {},
     "output_type": "execute_result"
    }
   ],
   "source": [
    "data[\"Total_Stops\"]=data[\"Total_Stops\"].astype(int)\n",
    "data.head(5)"
   ]
  },
  {
   "cell_type": "markdown",
   "id": "68a38cf6",
   "metadata": {},
   "source": [
    "## 2. DATA CLEANING - Date of Journey"
   ]
  },
  {
   "cell_type": "code",
   "execution_count": 124,
   "id": "9ab9f3ae",
   "metadata": {},
   "outputs": [
    {
     "data": {
      "text/plain": [
       "array(['24/03/2018', '01/05/2018', '09/06/2018', '12/05/2018',\n",
       "       '01/03/2018', '24/06/2018', '12/03/2018', '27/05/2018',\n",
       "       '01/06/2018', '18/04/2018', '09/05/2018', '24/04/2018',\n",
       "       '03/03/2018', '15/04/2018', '12/06/2018', '06/03/2018',\n",
       "       '21/03/2018', '03/04/2018', '06/05/2018', '15/05/2018',\n",
       "       '18/06/2018', '15/06/2018', '06/04/2018', '18/05/2018',\n",
       "       '27/06/2018', '21/05/2018', '03/06/2018', '15/03/2018',\n",
       "       '03/05/2018', '09/03/2018', '06/06/2018', '24/05/2018',\n",
       "       '01/04/2018', '21/04/2018', '21/06/2018', '27/03/2018',\n",
       "       '18/03/2018', '12/04/2018', '09/04/2018', '27/04/2018',\n",
       "       '24/03/2019', '1/05/2019', '9/06/2019', '12/05/2019', '01/03/2019',\n",
       "       '24/06/2019', '12/03/2019', '27/05/2019', '1/06/2019',\n",
       "       '18/04/2019', '9/05/2019', '24/04/2019', '3/03/2019', '15/04/2019',\n",
       "       '12/06/2019', '6/03/2019', '21/03/2019', '3/04/2019', '6/05/2019',\n",
       "       '15/05/2019', '18/06/2019', '15/06/2019', '6/04/2019',\n",
       "       '18/05/2019', '27/06/2019', '21/05/2019', '06/03/2019',\n",
       "       '3/06/2019', '15/03/2019', '3/05/2019', '9/03/2019', '6/06/2019',\n",
       "       '24/05/2019', '09/03/2019', '1/04/2019', '21/04/2019',\n",
       "       '21/06/2019', '27/03/2019', '18/03/2019', '12/04/2019',\n",
       "       '9/04/2019', '1/03/2019', '03/03/2019', '27/04/2019'], dtype=object)"
      ]
     },
     "execution_count": 124,
     "metadata": {},
     "output_type": "execute_result"
    }
   ],
   "source": [
    "data[\"Date_of_Journey\"].unique()"
   ]
  },
  {
   "cell_type": "code",
   "execution_count": 125,
   "id": "483d8f7a",
   "metadata": {},
   "outputs": [],
   "source": [
    "#all dates are in 2019 so no need to seperate it\n",
    "data['Date_of_Journey']=pd.to_datetime(data['Date_of_Journey'], format='%d/%m/%Y')\n",
    "data['Journey_Day'] = data['Date_of_Journey'].dt.day\n",
    "data['Journey_Month'] = data['Date_of_Journey'].dt.month\n",
    "\n",
    "\n",
    "\n",
    "\n",
    "data.drop('Date_of_Journey', axis=1, inplace=True)"
   ]
  },
  {
   "cell_type": "code",
   "execution_count": 126,
   "id": "97aa213a",
   "metadata": {},
   "outputs": [
    {
     "data": {
      "text/html": [
       "<div>\n",
       "<style scoped>\n",
       "    .dataframe tbody tr th:only-of-type {\n",
       "        vertical-align: middle;\n",
       "    }\n",
       "\n",
       "    .dataframe tbody tr th {\n",
       "        vertical-align: top;\n",
       "    }\n",
       "\n",
       "    .dataframe thead th {\n",
       "        text-align: right;\n",
       "    }\n",
       "</style>\n",
       "<table border=\"1\" class=\"dataframe\">\n",
       "  <thead>\n",
       "    <tr style=\"text-align: right;\">\n",
       "      <th></th>\n",
       "      <th>Airline</th>\n",
       "      <th>Source</th>\n",
       "      <th>Destination</th>\n",
       "      <th>Route</th>\n",
       "      <th>Dep_Time</th>\n",
       "      <th>Arrival_Time</th>\n",
       "      <th>Duration</th>\n",
       "      <th>Total_Stops</th>\n",
       "      <th>Additional_Info</th>\n",
       "      <th>Price</th>\n",
       "      <th>Journey_Day</th>\n",
       "      <th>Journey_Month</th>\n",
       "    </tr>\n",
       "  </thead>\n",
       "  <tbody>\n",
       "    <tr>\n",
       "      <th>0</th>\n",
       "      <td>IndiGo</td>\n",
       "      <td>Banglore</td>\n",
       "      <td>New Delhi</td>\n",
       "      <td>BLR ? DEL</td>\n",
       "      <td>22:20</td>\n",
       "      <td>01:10 22 Mar</td>\n",
       "      <td>2h 50m</td>\n",
       "      <td>0</td>\n",
       "      <td>No info</td>\n",
       "      <td>3897</td>\n",
       "      <td>24</td>\n",
       "      <td>3</td>\n",
       "    </tr>\n",
       "    <tr>\n",
       "      <th>1</th>\n",
       "      <td>Air India</td>\n",
       "      <td>Kolkata</td>\n",
       "      <td>Banglore</td>\n",
       "      <td>CCU ? IXR ? BBI ? BLR</td>\n",
       "      <td>05:50</td>\n",
       "      <td>13:15</td>\n",
       "      <td>7h 25m</td>\n",
       "      <td>2</td>\n",
       "      <td>No info</td>\n",
       "      <td>7662</td>\n",
       "      <td>1</td>\n",
       "      <td>5</td>\n",
       "    </tr>\n",
       "    <tr>\n",
       "      <th>2</th>\n",
       "      <td>Jet Airways</td>\n",
       "      <td>Delhi</td>\n",
       "      <td>Cochin</td>\n",
       "      <td>DEL ? LKO ? BOM ? COK</td>\n",
       "      <td>09:25</td>\n",
       "      <td>04:25 10 Jun</td>\n",
       "      <td>19h</td>\n",
       "      <td>2</td>\n",
       "      <td>No info</td>\n",
       "      <td>13882</td>\n",
       "      <td>9</td>\n",
       "      <td>6</td>\n",
       "    </tr>\n",
       "    <tr>\n",
       "      <th>3</th>\n",
       "      <td>IndiGo</td>\n",
       "      <td>Kolkata</td>\n",
       "      <td>Banglore</td>\n",
       "      <td>CCU ? NAG ? BLR</td>\n",
       "      <td>18:05</td>\n",
       "      <td>23:30</td>\n",
       "      <td>5h 25m</td>\n",
       "      <td>1</td>\n",
       "      <td>No info</td>\n",
       "      <td>6218</td>\n",
       "      <td>12</td>\n",
       "      <td>5</td>\n",
       "    </tr>\n",
       "    <tr>\n",
       "      <th>4</th>\n",
       "      <td>IndiGo</td>\n",
       "      <td>Banglore</td>\n",
       "      <td>New Delhi</td>\n",
       "      <td>BLR ? NAG ? DEL</td>\n",
       "      <td>16:50</td>\n",
       "      <td>21:35</td>\n",
       "      <td>4h 45m</td>\n",
       "      <td>1</td>\n",
       "      <td>No info</td>\n",
       "      <td>13302</td>\n",
       "      <td>1</td>\n",
       "      <td>3</td>\n",
       "    </tr>\n",
       "    <tr>\n",
       "      <th>...</th>\n",
       "      <td>...</td>\n",
       "      <td>...</td>\n",
       "      <td>...</td>\n",
       "      <td>...</td>\n",
       "      <td>...</td>\n",
       "      <td>...</td>\n",
       "      <td>...</td>\n",
       "      <td>...</td>\n",
       "      <td>...</td>\n",
       "      <td>...</td>\n",
       "      <td>...</td>\n",
       "      <td>...</td>\n",
       "    </tr>\n",
       "    <tr>\n",
       "      <th>21361</th>\n",
       "      <td>Air Asia</td>\n",
       "      <td>Kolkata</td>\n",
       "      <td>Banglore</td>\n",
       "      <td>CCU ? BLR</td>\n",
       "      <td>19:55</td>\n",
       "      <td>22:25</td>\n",
       "      <td>2h 30m</td>\n",
       "      <td>0</td>\n",
       "      <td>No info</td>\n",
       "      <td>4107</td>\n",
       "      <td>9</td>\n",
       "      <td>4</td>\n",
       "    </tr>\n",
       "    <tr>\n",
       "      <th>21362</th>\n",
       "      <td>Air India</td>\n",
       "      <td>Kolkata</td>\n",
       "      <td>Banglore</td>\n",
       "      <td>CCU ? BLR</td>\n",
       "      <td>20:45</td>\n",
       "      <td>23:20</td>\n",
       "      <td>2h 35m</td>\n",
       "      <td>0</td>\n",
       "      <td>No info</td>\n",
       "      <td>4145</td>\n",
       "      <td>27</td>\n",
       "      <td>4</td>\n",
       "    </tr>\n",
       "    <tr>\n",
       "      <th>21363</th>\n",
       "      <td>Jet Airways</td>\n",
       "      <td>Banglore</td>\n",
       "      <td>Delhi</td>\n",
       "      <td>BLR ? DEL</td>\n",
       "      <td>08:20</td>\n",
       "      <td>11:20</td>\n",
       "      <td>3h</td>\n",
       "      <td>0</td>\n",
       "      <td>No info</td>\n",
       "      <td>7229</td>\n",
       "      <td>27</td>\n",
       "      <td>4</td>\n",
       "    </tr>\n",
       "    <tr>\n",
       "      <th>21364</th>\n",
       "      <td>Vistara</td>\n",
       "      <td>Banglore</td>\n",
       "      <td>New Delhi</td>\n",
       "      <td>BLR ? DEL</td>\n",
       "      <td>11:30</td>\n",
       "      <td>14:10</td>\n",
       "      <td>2h 40m</td>\n",
       "      <td>0</td>\n",
       "      <td>No info</td>\n",
       "      <td>12648</td>\n",
       "      <td>1</td>\n",
       "      <td>3</td>\n",
       "    </tr>\n",
       "    <tr>\n",
       "      <th>21365</th>\n",
       "      <td>Air India</td>\n",
       "      <td>Delhi</td>\n",
       "      <td>Cochin</td>\n",
       "      <td>DEL ? GOI ? BOM ? COK</td>\n",
       "      <td>10:55</td>\n",
       "      <td>19:15</td>\n",
       "      <td>8h 20m</td>\n",
       "      <td>2</td>\n",
       "      <td>No info</td>\n",
       "      <td>11753</td>\n",
       "      <td>9</td>\n",
       "      <td>5</td>\n",
       "    </tr>\n",
       "  </tbody>\n",
       "</table>\n",
       "<p>21352 rows × 12 columns</p>\n",
       "</div>"
      ],
      "text/plain": [
       "           Airline    Source Destination                  Route Dep_Time  \\\n",
       "0           IndiGo  Banglore   New Delhi              BLR ? DEL    22:20   \n",
       "1        Air India   Kolkata    Banglore  CCU ? IXR ? BBI ? BLR    05:50   \n",
       "2      Jet Airways     Delhi      Cochin  DEL ? LKO ? BOM ? COK    09:25   \n",
       "3           IndiGo   Kolkata    Banglore        CCU ? NAG ? BLR    18:05   \n",
       "4           IndiGo  Banglore   New Delhi        BLR ? NAG ? DEL    16:50   \n",
       "...            ...       ...         ...                    ...      ...   \n",
       "21361     Air Asia   Kolkata    Banglore              CCU ? BLR    19:55   \n",
       "21362    Air India   Kolkata    Banglore              CCU ? BLR    20:45   \n",
       "21363  Jet Airways  Banglore       Delhi              BLR ? DEL    08:20   \n",
       "21364      Vistara  Banglore   New Delhi              BLR ? DEL    11:30   \n",
       "21365    Air India     Delhi      Cochin  DEL ? GOI ? BOM ? COK    10:55   \n",
       "\n",
       "       Arrival_Time Duration  Total_Stops Additional_Info  Price  Journey_Day  \\\n",
       "0      01:10 22 Mar   2h 50m            0         No info   3897           24   \n",
       "1             13:15   7h 25m            2         No info   7662            1   \n",
       "2      04:25 10 Jun      19h            2         No info  13882            9   \n",
       "3             23:30   5h 25m            1         No info   6218           12   \n",
       "4             21:35   4h 45m            1         No info  13302            1   \n",
       "...             ...      ...          ...             ...    ...          ...   \n",
       "21361         22:25   2h 30m            0         No info   4107            9   \n",
       "21362         23:20   2h 35m            0         No info   4145           27   \n",
       "21363         11:20       3h            0         No info   7229           27   \n",
       "21364         14:10   2h 40m            0         No info  12648            1   \n",
       "21365         19:15   8h 20m            2         No info  11753            9   \n",
       "\n",
       "       Journey_Month  \n",
       "0                  3  \n",
       "1                  5  \n",
       "2                  6  \n",
       "3                  5  \n",
       "4                  3  \n",
       "...              ...  \n",
       "21361              4  \n",
       "21362              4  \n",
       "21363              4  \n",
       "21364              3  \n",
       "21365              5  \n",
       "\n",
       "[21352 rows x 12 columns]"
      ]
     },
     "execution_count": 126,
     "metadata": {},
     "output_type": "execute_result"
    }
   ],
   "source": [
    "data"
   ]
  },
  {
   "cell_type": "markdown",
   "id": "71d04976",
   "metadata": {},
   "source": [
    "## 3. DATA CLEANING - Duration"
   ]
  },
  {
   "cell_type": "code",
   "execution_count": 127,
   "id": "00f88230",
   "metadata": {},
   "outputs": [],
   "source": [
    "# def convert_duration(Duration):\n",
    "#     if pd.isnull(Duration):\n",
    "#         return None, None\n",
    "\n",
    "#     hours, minutes = 0, 0\n",
    "\n",
    "#     if 'h' in Duration:\n",
    "#         hours = int(Duration.split('h')[0])\n",
    "\n",
    "#     if 'm' in Duration:\n",
    "#         minutes = int(Duration.split('m')[0].split()[-1])\n",
    "\n",
    "#     return hours, minutes\n",
    "\n",
    "# data[\"Hours\"] = data[\"Duration\"].apply(convert_duration).apply(lambda x: x[0])\n",
    "\n",
    "\n",
    "# data[\"Minutes\"] = data[\"Duration\"].apply(convert_duration).apply(lambda x: x[1])\n",
    "\n",
    "# # data=data.drop(\"Duration\",axis=1)\n",
    "data=data.drop(\"Duration\",axis=1)\n"
   ]
  },
  {
   "cell_type": "markdown",
   "id": "177311b0",
   "metadata": {},
   "source": [
    "\n",
    "#### Droping duration column as it have less influence on ticket price\n",
    "#### from the scatter plot above Duration has less influence on price\n"
   ]
  },
  {
   "cell_type": "code",
   "execution_count": 128,
   "id": "f333b090",
   "metadata": {},
   "outputs": [
    {
     "data": {
      "text/html": [
       "<div>\n",
       "<style scoped>\n",
       "    .dataframe tbody tr th:only-of-type {\n",
       "        vertical-align: middle;\n",
       "    }\n",
       "\n",
       "    .dataframe tbody tr th {\n",
       "        vertical-align: top;\n",
       "    }\n",
       "\n",
       "    .dataframe thead th {\n",
       "        text-align: right;\n",
       "    }\n",
       "</style>\n",
       "<table border=\"1\" class=\"dataframe\">\n",
       "  <thead>\n",
       "    <tr style=\"text-align: right;\">\n",
       "      <th></th>\n",
       "      <th>Airline</th>\n",
       "      <th>Source</th>\n",
       "      <th>Destination</th>\n",
       "      <th>Route</th>\n",
       "      <th>Dep_Time</th>\n",
       "      <th>Arrival_Time</th>\n",
       "      <th>Total_Stops</th>\n",
       "      <th>Additional_Info</th>\n",
       "      <th>Price</th>\n",
       "      <th>Journey_Day</th>\n",
       "      <th>Journey_Month</th>\n",
       "    </tr>\n",
       "  </thead>\n",
       "  <tbody>\n",
       "    <tr>\n",
       "      <th>0</th>\n",
       "      <td>IndiGo</td>\n",
       "      <td>Banglore</td>\n",
       "      <td>New Delhi</td>\n",
       "      <td>BLR ? DEL</td>\n",
       "      <td>22:20</td>\n",
       "      <td>01:10 22 Mar</td>\n",
       "      <td>0</td>\n",
       "      <td>No info</td>\n",
       "      <td>3897</td>\n",
       "      <td>24</td>\n",
       "      <td>3</td>\n",
       "    </tr>\n",
       "    <tr>\n",
       "      <th>1</th>\n",
       "      <td>Air India</td>\n",
       "      <td>Kolkata</td>\n",
       "      <td>Banglore</td>\n",
       "      <td>CCU ? IXR ? BBI ? BLR</td>\n",
       "      <td>05:50</td>\n",
       "      <td>13:15</td>\n",
       "      <td>2</td>\n",
       "      <td>No info</td>\n",
       "      <td>7662</td>\n",
       "      <td>1</td>\n",
       "      <td>5</td>\n",
       "    </tr>\n",
       "    <tr>\n",
       "      <th>2</th>\n",
       "      <td>Jet Airways</td>\n",
       "      <td>Delhi</td>\n",
       "      <td>Cochin</td>\n",
       "      <td>DEL ? LKO ? BOM ? COK</td>\n",
       "      <td>09:25</td>\n",
       "      <td>04:25 10 Jun</td>\n",
       "      <td>2</td>\n",
       "      <td>No info</td>\n",
       "      <td>13882</td>\n",
       "      <td>9</td>\n",
       "      <td>6</td>\n",
       "    </tr>\n",
       "    <tr>\n",
       "      <th>3</th>\n",
       "      <td>IndiGo</td>\n",
       "      <td>Kolkata</td>\n",
       "      <td>Banglore</td>\n",
       "      <td>CCU ? NAG ? BLR</td>\n",
       "      <td>18:05</td>\n",
       "      <td>23:30</td>\n",
       "      <td>1</td>\n",
       "      <td>No info</td>\n",
       "      <td>6218</td>\n",
       "      <td>12</td>\n",
       "      <td>5</td>\n",
       "    </tr>\n",
       "    <tr>\n",
       "      <th>4</th>\n",
       "      <td>IndiGo</td>\n",
       "      <td>Banglore</td>\n",
       "      <td>New Delhi</td>\n",
       "      <td>BLR ? NAG ? DEL</td>\n",
       "      <td>16:50</td>\n",
       "      <td>21:35</td>\n",
       "      <td>1</td>\n",
       "      <td>No info</td>\n",
       "      <td>13302</td>\n",
       "      <td>1</td>\n",
       "      <td>3</td>\n",
       "    </tr>\n",
       "    <tr>\n",
       "      <th>...</th>\n",
       "      <td>...</td>\n",
       "      <td>...</td>\n",
       "      <td>...</td>\n",
       "      <td>...</td>\n",
       "      <td>...</td>\n",
       "      <td>...</td>\n",
       "      <td>...</td>\n",
       "      <td>...</td>\n",
       "      <td>...</td>\n",
       "      <td>...</td>\n",
       "      <td>...</td>\n",
       "    </tr>\n",
       "    <tr>\n",
       "      <th>21361</th>\n",
       "      <td>Air Asia</td>\n",
       "      <td>Kolkata</td>\n",
       "      <td>Banglore</td>\n",
       "      <td>CCU ? BLR</td>\n",
       "      <td>19:55</td>\n",
       "      <td>22:25</td>\n",
       "      <td>0</td>\n",
       "      <td>No info</td>\n",
       "      <td>4107</td>\n",
       "      <td>9</td>\n",
       "      <td>4</td>\n",
       "    </tr>\n",
       "    <tr>\n",
       "      <th>21362</th>\n",
       "      <td>Air India</td>\n",
       "      <td>Kolkata</td>\n",
       "      <td>Banglore</td>\n",
       "      <td>CCU ? BLR</td>\n",
       "      <td>20:45</td>\n",
       "      <td>23:20</td>\n",
       "      <td>0</td>\n",
       "      <td>No info</td>\n",
       "      <td>4145</td>\n",
       "      <td>27</td>\n",
       "      <td>4</td>\n",
       "    </tr>\n",
       "    <tr>\n",
       "      <th>21363</th>\n",
       "      <td>Jet Airways</td>\n",
       "      <td>Banglore</td>\n",
       "      <td>Delhi</td>\n",
       "      <td>BLR ? DEL</td>\n",
       "      <td>08:20</td>\n",
       "      <td>11:20</td>\n",
       "      <td>0</td>\n",
       "      <td>No info</td>\n",
       "      <td>7229</td>\n",
       "      <td>27</td>\n",
       "      <td>4</td>\n",
       "    </tr>\n",
       "    <tr>\n",
       "      <th>21364</th>\n",
       "      <td>Vistara</td>\n",
       "      <td>Banglore</td>\n",
       "      <td>New Delhi</td>\n",
       "      <td>BLR ? DEL</td>\n",
       "      <td>11:30</td>\n",
       "      <td>14:10</td>\n",
       "      <td>0</td>\n",
       "      <td>No info</td>\n",
       "      <td>12648</td>\n",
       "      <td>1</td>\n",
       "      <td>3</td>\n",
       "    </tr>\n",
       "    <tr>\n",
       "      <th>21365</th>\n",
       "      <td>Air India</td>\n",
       "      <td>Delhi</td>\n",
       "      <td>Cochin</td>\n",
       "      <td>DEL ? GOI ? BOM ? COK</td>\n",
       "      <td>10:55</td>\n",
       "      <td>19:15</td>\n",
       "      <td>2</td>\n",
       "      <td>No info</td>\n",
       "      <td>11753</td>\n",
       "      <td>9</td>\n",
       "      <td>5</td>\n",
       "    </tr>\n",
       "  </tbody>\n",
       "</table>\n",
       "<p>21352 rows × 11 columns</p>\n",
       "</div>"
      ],
      "text/plain": [
       "           Airline    Source Destination                  Route Dep_Time  \\\n",
       "0           IndiGo  Banglore   New Delhi              BLR ? DEL    22:20   \n",
       "1        Air India   Kolkata    Banglore  CCU ? IXR ? BBI ? BLR    05:50   \n",
       "2      Jet Airways     Delhi      Cochin  DEL ? LKO ? BOM ? COK    09:25   \n",
       "3           IndiGo   Kolkata    Banglore        CCU ? NAG ? BLR    18:05   \n",
       "4           IndiGo  Banglore   New Delhi        BLR ? NAG ? DEL    16:50   \n",
       "...            ...       ...         ...                    ...      ...   \n",
       "21361     Air Asia   Kolkata    Banglore              CCU ? BLR    19:55   \n",
       "21362    Air India   Kolkata    Banglore              CCU ? BLR    20:45   \n",
       "21363  Jet Airways  Banglore       Delhi              BLR ? DEL    08:20   \n",
       "21364      Vistara  Banglore   New Delhi              BLR ? DEL    11:30   \n",
       "21365    Air India     Delhi      Cochin  DEL ? GOI ? BOM ? COK    10:55   \n",
       "\n",
       "       Arrival_Time  Total_Stops Additional_Info  Price  Journey_Day  \\\n",
       "0      01:10 22 Mar            0         No info   3897           24   \n",
       "1             13:15            2         No info   7662            1   \n",
       "2      04:25 10 Jun            2         No info  13882            9   \n",
       "3             23:30            1         No info   6218           12   \n",
       "4             21:35            1         No info  13302            1   \n",
       "...             ...          ...             ...    ...          ...   \n",
       "21361         22:25            0         No info   4107            9   \n",
       "21362         23:20            0         No info   4145           27   \n",
       "21363         11:20            0         No info   7229           27   \n",
       "21364         14:10            0         No info  12648            1   \n",
       "21365         19:15            2         No info  11753            9   \n",
       "\n",
       "       Journey_Month  \n",
       "0                  3  \n",
       "1                  5  \n",
       "2                  6  \n",
       "3                  5  \n",
       "4                  3  \n",
       "...              ...  \n",
       "21361              4  \n",
       "21362              4  \n",
       "21363              4  \n",
       "21364              3  \n",
       "21365              5  \n",
       "\n",
       "[21352 rows x 11 columns]"
      ]
     },
     "execution_count": 128,
     "metadata": {},
     "output_type": "execute_result"
    }
   ],
   "source": [
    "data"
   ]
  },
  {
   "cell_type": "code",
   "execution_count": null,
   "id": "c5a43b8e",
   "metadata": {},
   "outputs": [],
   "source": []
  },
  {
   "cell_type": "code",
   "execution_count": 129,
   "id": "dbaab490",
   "metadata": {},
   "outputs": [],
   "source": [
    "# Removing business class ticket row as they will be outliers to price "
   ]
  },
  {
   "cell_type": "code",
   "execution_count": 130,
   "id": "ac84e2d8",
   "metadata": {},
   "outputs": [
    {
     "data": {
      "text/plain": [
       "Additional_Info\n",
       "No info                         16682\n",
       "In-flight meal not included      3964\n",
       "No check-in baggage included      640\n",
       "1 Long layover                     38\n",
       "Change airports                    14\n",
       "No Info                             6\n",
       "1 Short layover                     2\n",
       "Business class                      2\n",
       "Red-eye flight                      2\n",
       "2 Long layover                      2\n",
       "Name: count, dtype: int64"
      ]
     },
     "execution_count": 130,
     "metadata": {},
     "output_type": "execute_result"
    }
   ],
   "source": [
    "data[\"Additional_Info\"].value_counts()"
   ]
  },
  {
   "cell_type": "code",
   "execution_count": 131,
   "id": "b29eed1b",
   "metadata": {},
   "outputs": [],
   "source": [
    "index_remove = data[data['Additional_Info'] == 'Business class'].index\n",
    "data = data.drop(index=index_remove)"
   ]
  },
  {
   "cell_type": "markdown",
   "id": "7e110c85",
   "metadata": {},
   "source": [
    "## 4. DATA CLEANING - DROPING COLUMNS"
   ]
  },
  {
   "cell_type": "code",
   "execution_count": 132,
   "id": "03cff77e",
   "metadata": {},
   "outputs": [],
   "source": [
    "data=data.drop(\"Additional_Info\",axis=1)\n",
    "data=data.drop(\"Route\",axis=1)\n",
    "data=data.drop([\"Dep_Time\",\"Arrival_Time\"],axis=1)"
   ]
  },
  {
   "cell_type": "code",
   "execution_count": 133,
   "id": "3b525eed",
   "metadata": {},
   "outputs": [
    {
     "data": {
      "text/html": [
       "<div>\n",
       "<style scoped>\n",
       "    .dataframe tbody tr th:only-of-type {\n",
       "        vertical-align: middle;\n",
       "    }\n",
       "\n",
       "    .dataframe tbody tr th {\n",
       "        vertical-align: top;\n",
       "    }\n",
       "\n",
       "    .dataframe thead th {\n",
       "        text-align: right;\n",
       "    }\n",
       "</style>\n",
       "<table border=\"1\" class=\"dataframe\">\n",
       "  <thead>\n",
       "    <tr style=\"text-align: right;\">\n",
       "      <th></th>\n",
       "      <th>Airline</th>\n",
       "      <th>Source</th>\n",
       "      <th>Destination</th>\n",
       "      <th>Total_Stops</th>\n",
       "      <th>Price</th>\n",
       "      <th>Journey_Day</th>\n",
       "      <th>Journey_Month</th>\n",
       "    </tr>\n",
       "  </thead>\n",
       "  <tbody>\n",
       "    <tr>\n",
       "      <th>0</th>\n",
       "      <td>IndiGo</td>\n",
       "      <td>Banglore</td>\n",
       "      <td>New Delhi</td>\n",
       "      <td>0</td>\n",
       "      <td>3897</td>\n",
       "      <td>24</td>\n",
       "      <td>3</td>\n",
       "    </tr>\n",
       "    <tr>\n",
       "      <th>1</th>\n",
       "      <td>Air India</td>\n",
       "      <td>Kolkata</td>\n",
       "      <td>Banglore</td>\n",
       "      <td>2</td>\n",
       "      <td>7662</td>\n",
       "      <td>1</td>\n",
       "      <td>5</td>\n",
       "    </tr>\n",
       "    <tr>\n",
       "      <th>2</th>\n",
       "      <td>Jet Airways</td>\n",
       "      <td>Delhi</td>\n",
       "      <td>Cochin</td>\n",
       "      <td>2</td>\n",
       "      <td>13882</td>\n",
       "      <td>9</td>\n",
       "      <td>6</td>\n",
       "    </tr>\n",
       "    <tr>\n",
       "      <th>3</th>\n",
       "      <td>IndiGo</td>\n",
       "      <td>Kolkata</td>\n",
       "      <td>Banglore</td>\n",
       "      <td>1</td>\n",
       "      <td>6218</td>\n",
       "      <td>12</td>\n",
       "      <td>5</td>\n",
       "    </tr>\n",
       "    <tr>\n",
       "      <th>4</th>\n",
       "      <td>IndiGo</td>\n",
       "      <td>Banglore</td>\n",
       "      <td>New Delhi</td>\n",
       "      <td>1</td>\n",
       "      <td>13302</td>\n",
       "      <td>1</td>\n",
       "      <td>3</td>\n",
       "    </tr>\n",
       "    <tr>\n",
       "      <th>5</th>\n",
       "      <td>SpiceJet</td>\n",
       "      <td>Kolkata</td>\n",
       "      <td>Banglore</td>\n",
       "      <td>0</td>\n",
       "      <td>3873</td>\n",
       "      <td>24</td>\n",
       "      <td>6</td>\n",
       "    </tr>\n",
       "    <tr>\n",
       "      <th>6</th>\n",
       "      <td>Jet Airways</td>\n",
       "      <td>Banglore</td>\n",
       "      <td>New Delhi</td>\n",
       "      <td>1</td>\n",
       "      <td>11087</td>\n",
       "      <td>12</td>\n",
       "      <td>3</td>\n",
       "    </tr>\n",
       "    <tr>\n",
       "      <th>7</th>\n",
       "      <td>Jet Airways</td>\n",
       "      <td>Banglore</td>\n",
       "      <td>New Delhi</td>\n",
       "      <td>1</td>\n",
       "      <td>22270</td>\n",
       "      <td>1</td>\n",
       "      <td>3</td>\n",
       "    </tr>\n",
       "  </tbody>\n",
       "</table>\n",
       "</div>"
      ],
      "text/plain": [
       "       Airline    Source Destination  Total_Stops  Price  Journey_Day  \\\n",
       "0       IndiGo  Banglore   New Delhi            0   3897           24   \n",
       "1    Air India   Kolkata    Banglore            2   7662            1   \n",
       "2  Jet Airways     Delhi      Cochin            2  13882            9   \n",
       "3       IndiGo   Kolkata    Banglore            1   6218           12   \n",
       "4       IndiGo  Banglore   New Delhi            1  13302            1   \n",
       "5     SpiceJet   Kolkata    Banglore            0   3873           24   \n",
       "6  Jet Airways  Banglore   New Delhi            1  11087           12   \n",
       "7  Jet Airways  Banglore   New Delhi            1  22270            1   \n",
       "\n",
       "   Journey_Month  \n",
       "0              3  \n",
       "1              5  \n",
       "2              6  \n",
       "3              5  \n",
       "4              3  \n",
       "5              6  \n",
       "6              3  \n",
       "7              3  "
      ]
     },
     "execution_count": 133,
     "metadata": {},
     "output_type": "execute_result"
    }
   ],
   "source": [
    "data.head(8)"
   ]
  },
  {
   "cell_type": "code",
   "execution_count": 134,
   "id": "efba7bf5",
   "metadata": {},
   "outputs": [
    {
     "name": "stdout",
     "output_type": "stream",
     "text": [
      "<class 'pandas.core.frame.DataFrame'>\n",
      "Index: 21350 entries, 0 to 21365\n",
      "Data columns (total 7 columns):\n",
      " #   Column         Non-Null Count  Dtype \n",
      "---  ------         --------------  ----- \n",
      " 0   Airline        21350 non-null  object\n",
      " 1   Source         21350 non-null  object\n",
      " 2   Destination    21350 non-null  object\n",
      " 3   Total_Stops    21350 non-null  int32 \n",
      " 4   Price          21350 non-null  int64 \n",
      " 5   Journey_Day    21350 non-null  int32 \n",
      " 6   Journey_Month  21350 non-null  int32 \n",
      "dtypes: int32(3), int64(1), object(3)\n",
      "memory usage: 1.1+ MB\n"
     ]
    }
   ],
   "source": [
    "# CHECKING THE DATA TYPES OF EACH COLUMN\n",
    "\n",
    "data.info()"
   ]
  },
  {
   "cell_type": "code",
   "execution_count": 135,
   "id": "1a5fce28",
   "metadata": {},
   "outputs": [
    {
     "data": {
      "text/plain": [
       "array(['IndiGo', 'Air India', 'Jet Airways', 'SpiceJet',\n",
       "       'Multiple carriers', 'GoAir', 'Vistara', 'Air Asia',\n",
       "       'Vistara Premium economy', 'Multiple carriers Premium economy',\n",
       "       'Trujet'], dtype=object)"
      ]
     },
     "execution_count": 135,
     "metadata": {},
     "output_type": "execute_result"
    }
   ],
   "source": [
    "# CHEHCING UNIQUE VALUES IN AIRLINE COLUMN\n",
    "\n",
    "data[\"Airline\"].unique()"
   ]
  },
  {
   "cell_type": "code",
   "execution_count": null,
   "id": "a3a86326",
   "metadata": {},
   "outputs": [],
   "source": []
  },
  {
   "cell_type": "markdown",
   "id": "177aea57",
   "metadata": {},
   "source": [
    "## 5. DATA CLEANING - LABEL ENCODING"
   ]
  },
  {
   "cell_type": "code",
   "execution_count": 136,
   "id": "939d5aa2",
   "metadata": {},
   "outputs": [],
   "source": [
    "airline=LabelEncoder()\n",
    "source=LabelEncoder()\n",
    "destination=LabelEncoder()\n",
    "\n",
    "\n",
    "data[\"Airline\"]=airline.fit_transform(data[\"Airline\"])\n",
    "data[\"Source\"]=source.fit_transform(data[\"Source\"])\n",
    "data[\"Destination\"]=destination.fit_transform(data[\"Destination\"])\n"
   ]
  },
  {
   "cell_type": "code",
   "execution_count": 137,
   "id": "a2d9f1c4",
   "metadata": {},
   "outputs": [
    {
     "name": "stdout",
     "output_type": "stream",
     "text": [
      "<class 'pandas.core.frame.DataFrame'>\n",
      "Index: 21350 entries, 0 to 21365\n",
      "Data columns (total 7 columns):\n",
      " #   Column         Non-Null Count  Dtype\n",
      "---  ------         --------------  -----\n",
      " 0   Airline        21350 non-null  int32\n",
      " 1   Source         21350 non-null  int32\n",
      " 2   Destination    21350 non-null  int32\n",
      " 3   Total_Stops    21350 non-null  int32\n",
      " 4   Price          21350 non-null  int64\n",
      " 5   Journey_Day    21350 non-null  int32\n",
      " 6   Journey_Month  21350 non-null  int32\n",
      "dtypes: int32(6), int64(1)\n",
      "memory usage: 834.0 KB\n"
     ]
    }
   ],
   "source": [
    "data.info()"
   ]
  },
  {
   "cell_type": "code",
   "execution_count": 138,
   "id": "3b2efe87",
   "metadata": {},
   "outputs": [
    {
     "data": {
      "text/html": [
       "<div>\n",
       "<style scoped>\n",
       "    .dataframe tbody tr th:only-of-type {\n",
       "        vertical-align: middle;\n",
       "    }\n",
       "\n",
       "    .dataframe tbody tr th {\n",
       "        vertical-align: top;\n",
       "    }\n",
       "\n",
       "    .dataframe thead th {\n",
       "        text-align: right;\n",
       "    }\n",
       "</style>\n",
       "<table border=\"1\" class=\"dataframe\">\n",
       "  <thead>\n",
       "    <tr style=\"text-align: right;\">\n",
       "      <th></th>\n",
       "      <th>Airline</th>\n",
       "      <th>Source</th>\n",
       "      <th>Destination</th>\n",
       "      <th>Total_Stops</th>\n",
       "      <th>Price</th>\n",
       "      <th>Journey_Day</th>\n",
       "      <th>Journey_Month</th>\n",
       "    </tr>\n",
       "  </thead>\n",
       "  <tbody>\n",
       "    <tr>\n",
       "      <th>0</th>\n",
       "      <td>3</td>\n",
       "      <td>0</td>\n",
       "      <td>5</td>\n",
       "      <td>0</td>\n",
       "      <td>3897</td>\n",
       "      <td>24</td>\n",
       "      <td>3</td>\n",
       "    </tr>\n",
       "    <tr>\n",
       "      <th>1</th>\n",
       "      <td>1</td>\n",
       "      <td>3</td>\n",
       "      <td>0</td>\n",
       "      <td>2</td>\n",
       "      <td>7662</td>\n",
       "      <td>1</td>\n",
       "      <td>5</td>\n",
       "    </tr>\n",
       "    <tr>\n",
       "      <th>2</th>\n",
       "      <td>4</td>\n",
       "      <td>2</td>\n",
       "      <td>1</td>\n",
       "      <td>2</td>\n",
       "      <td>13882</td>\n",
       "      <td>9</td>\n",
       "      <td>6</td>\n",
       "    </tr>\n",
       "    <tr>\n",
       "      <th>3</th>\n",
       "      <td>3</td>\n",
       "      <td>3</td>\n",
       "      <td>0</td>\n",
       "      <td>1</td>\n",
       "      <td>6218</td>\n",
       "      <td>12</td>\n",
       "      <td>5</td>\n",
       "    </tr>\n",
       "    <tr>\n",
       "      <th>4</th>\n",
       "      <td>3</td>\n",
       "      <td>0</td>\n",
       "      <td>5</td>\n",
       "      <td>1</td>\n",
       "      <td>13302</td>\n",
       "      <td>1</td>\n",
       "      <td>3</td>\n",
       "    </tr>\n",
       "    <tr>\n",
       "      <th>...</th>\n",
       "      <td>...</td>\n",
       "      <td>...</td>\n",
       "      <td>...</td>\n",
       "      <td>...</td>\n",
       "      <td>...</td>\n",
       "      <td>...</td>\n",
       "      <td>...</td>\n",
       "    </tr>\n",
       "    <tr>\n",
       "      <th>21361</th>\n",
       "      <td>0</td>\n",
       "      <td>3</td>\n",
       "      <td>0</td>\n",
       "      <td>0</td>\n",
       "      <td>4107</td>\n",
       "      <td>9</td>\n",
       "      <td>4</td>\n",
       "    </tr>\n",
       "    <tr>\n",
       "      <th>21362</th>\n",
       "      <td>1</td>\n",
       "      <td>3</td>\n",
       "      <td>0</td>\n",
       "      <td>0</td>\n",
       "      <td>4145</td>\n",
       "      <td>27</td>\n",
       "      <td>4</td>\n",
       "    </tr>\n",
       "    <tr>\n",
       "      <th>21363</th>\n",
       "      <td>4</td>\n",
       "      <td>0</td>\n",
       "      <td>2</td>\n",
       "      <td>0</td>\n",
       "      <td>7229</td>\n",
       "      <td>27</td>\n",
       "      <td>4</td>\n",
       "    </tr>\n",
       "    <tr>\n",
       "      <th>21364</th>\n",
       "      <td>9</td>\n",
       "      <td>0</td>\n",
       "      <td>5</td>\n",
       "      <td>0</td>\n",
       "      <td>12648</td>\n",
       "      <td>1</td>\n",
       "      <td>3</td>\n",
       "    </tr>\n",
       "    <tr>\n",
       "      <th>21365</th>\n",
       "      <td>1</td>\n",
       "      <td>2</td>\n",
       "      <td>1</td>\n",
       "      <td>2</td>\n",
       "      <td>11753</td>\n",
       "      <td>9</td>\n",
       "      <td>5</td>\n",
       "    </tr>\n",
       "  </tbody>\n",
       "</table>\n",
       "<p>21350 rows × 7 columns</p>\n",
       "</div>"
      ],
      "text/plain": [
       "       Airline  Source  Destination  Total_Stops  Price  Journey_Day  \\\n",
       "0            3       0            5            0   3897           24   \n",
       "1            1       3            0            2   7662            1   \n",
       "2            4       2            1            2  13882            9   \n",
       "3            3       3            0            1   6218           12   \n",
       "4            3       0            5            1  13302            1   \n",
       "...        ...     ...          ...          ...    ...          ...   \n",
       "21361        0       3            0            0   4107            9   \n",
       "21362        1       3            0            0   4145           27   \n",
       "21363        4       0            2            0   7229           27   \n",
       "21364        9       0            5            0  12648            1   \n",
       "21365        1       2            1            2  11753            9   \n",
       "\n",
       "       Journey_Month  \n",
       "0                  3  \n",
       "1                  5  \n",
       "2                  6  \n",
       "3                  5  \n",
       "4                  3  \n",
       "...              ...  \n",
       "21361              4  \n",
       "21362              4  \n",
       "21363              4  \n",
       "21364              3  \n",
       "21365              5  \n",
       "\n",
       "[21350 rows x 7 columns]"
      ]
     },
     "execution_count": 138,
     "metadata": {},
     "output_type": "execute_result"
    }
   ],
   "source": [
    "data"
   ]
  },
  {
   "cell_type": "code",
   "execution_count": null,
   "id": "eefcae61",
   "metadata": {},
   "outputs": [],
   "source": []
  },
  {
   "cell_type": "markdown",
   "id": "116f1342",
   "metadata": {},
   "source": [
    "## 6. DATA CLEANING - REMOVING OUTLERS"
   ]
  },
  {
   "cell_type": "code",
   "execution_count": 139,
   "id": "5b8b28a5",
   "metadata": {},
   "outputs": [],
   "source": [
    "def remove_airline_price_outliers(data):\n",
    "    df_out = pd.DataFrame()\n",
    "    for airline,airline_data in data.groupby('Airline'):\n",
    "        for source,source_data in airline_data.groupby('Source'):\n",
    "            for destination,destination_data in source_data.groupby('Destination'):\n",
    "                \n",
    "                \n",
    "                m = np.mean(destination_data['Price'])\n",
    "                st = np.std(destination_data['Price'])\n",
    "                \n",
    "                reduced_df = destination_data[(destination_data['Price'] >=(m-st)) & (destination_data['Price'] <= (m+st))]\n",
    "                \n",
    "                df_out = pd.concat([df_out,reduced_df],ignore_index=True)\n",
    "        \n",
    "    return df_out\n",
    "        \n",
    "df2 = remove_airline_price_outliers(data)"
   ]
  },
  {
   "cell_type": "markdown",
   "id": "310a08f9",
   "metadata": {},
   "source": [
    "Airline name, boarding point and destination are the features important to flight ticket price.So, we will remove outliers in thease features"
   ]
  },
  {
   "cell_type": "code",
   "execution_count": 140,
   "id": "8703259d",
   "metadata": {},
   "outputs": [
    {
     "data": {
      "text/plain": [
       "(16052, 7)"
      ]
     },
     "execution_count": 140,
     "metadata": {},
     "output_type": "execute_result"
    }
   ],
   "source": [
    "df2.shape"
   ]
  },
  {
   "cell_type": "code",
   "execution_count": 141,
   "id": "c106fc49",
   "metadata": {},
   "outputs": [
    {
     "data": {
      "text/plain": [
       "(21350, 7)"
      ]
     },
     "execution_count": 141,
     "metadata": {},
     "output_type": "execute_result"
    }
   ],
   "source": [
    "data.shape"
   ]
  },
  {
   "cell_type": "markdown",
   "id": "f544a930",
   "metadata": {},
   "source": [
    "### CORRELATION MATRIX"
   ]
  },
  {
   "cell_type": "code",
   "execution_count": 142,
   "id": "1698edac",
   "metadata": {},
   "outputs": [
    {
     "data": {
      "image/png": "[encoded data removed]",
      "text/plain": [
       "<Figure size 1000x800 with 2 Axes>"
      ]
     },
     "metadata": {},
     "output_type": "display_data"
    }
   ],
   "source": [
    "#checking correlation of each feature to price\n",
    "\n",
    "correlation_matrix = df2.corr()\n",
    "\n",
    "sns.set(style=\"white\")  \n",
    "plt.figure(figsize=(10, 8))  \n",
    "\n",
    "\n",
    "sns.heatmap(correlation_matrix, annot=True, cmap=\"plasma\")\n",
    "\n",
    "\n",
    "plt.show()"
   ]
  },
  {
   "cell_type": "markdown",
   "id": "9176b7e3",
   "metadata": {},
   "source": [
    "## BUILDING MODELS"
   ]
  },
  {
   "cell_type": "code",
   "execution_count": 143,
   "id": "e837cc9f",
   "metadata": {},
   "outputs": [],
   "source": [
    "x=df2.drop(\"Price\",axis=1)\n",
    "y=df2[\"Price\"]"
   ]
  },
  {
   "cell_type": "code",
   "execution_count": 144,
   "id": "1dd4be07",
   "metadata": {},
   "outputs": [
    {
     "data": {
      "text/html": [
       "<div>\n",
       "<style scoped>\n",
       "    .dataframe tbody tr th:only-of-type {\n",
       "        vertical-align: middle;\n",
       "    }\n",
       "\n",
       "    .dataframe tbody tr th {\n",
       "        vertical-align: top;\n",
       "    }\n",
       "\n",
       "    .dataframe thead th {\n",
       "        text-align: right;\n",
       "    }\n",
       "</style>\n",
       "<table border=\"1\" class=\"dataframe\">\n",
       "  <thead>\n",
       "    <tr style=\"text-align: right;\">\n",
       "      <th></th>\n",
       "      <th>Airline</th>\n",
       "      <th>Source</th>\n",
       "      <th>Destination</th>\n",
       "      <th>Total_Stops</th>\n",
       "      <th>Journey_Day</th>\n",
       "      <th>Journey_Month</th>\n",
       "    </tr>\n",
       "  </thead>\n",
       "  <tbody>\n",
       "    <tr>\n",
       "      <th>0</th>\n",
       "      <td>0</td>\n",
       "      <td>0</td>\n",
       "      <td>2</td>\n",
       "      <td>0</td>\n",
       "      <td>6</td>\n",
       "      <td>5</td>\n",
       "    </tr>\n",
       "    <tr>\n",
       "      <th>1</th>\n",
       "      <td>0</td>\n",
       "      <td>0</td>\n",
       "      <td>2</td>\n",
       "      <td>0</td>\n",
       "      <td>3</td>\n",
       "      <td>4</td>\n",
       "    </tr>\n",
       "    <tr>\n",
       "      <th>2</th>\n",
       "      <td>0</td>\n",
       "      <td>0</td>\n",
       "      <td>2</td>\n",
       "      <td>0</td>\n",
       "      <td>12</td>\n",
       "      <td>6</td>\n",
       "    </tr>\n",
       "    <tr>\n",
       "      <th>3</th>\n",
       "      <td>0</td>\n",
       "      <td>0</td>\n",
       "      <td>2</td>\n",
       "      <td>0</td>\n",
       "      <td>24</td>\n",
       "      <td>4</td>\n",
       "    </tr>\n",
       "    <tr>\n",
       "      <th>4</th>\n",
       "      <td>0</td>\n",
       "      <td>0</td>\n",
       "      <td>2</td>\n",
       "      <td>0</td>\n",
       "      <td>18</td>\n",
       "      <td>4</td>\n",
       "    </tr>\n",
       "    <tr>\n",
       "      <th>...</th>\n",
       "      <td>...</td>\n",
       "      <td>...</td>\n",
       "      <td>...</td>\n",
       "      <td>...</td>\n",
       "      <td>...</td>\n",
       "      <td>...</td>\n",
       "    </tr>\n",
       "    <tr>\n",
       "      <th>16047</th>\n",
       "      <td>10</td>\n",
       "      <td>0</td>\n",
       "      <td>2</td>\n",
       "      <td>0</td>\n",
       "      <td>6</td>\n",
       "      <td>4</td>\n",
       "    </tr>\n",
       "    <tr>\n",
       "      <th>16048</th>\n",
       "      <td>10</td>\n",
       "      <td>0</td>\n",
       "      <td>5</td>\n",
       "      <td>0</td>\n",
       "      <td>3</td>\n",
       "      <td>3</td>\n",
       "    </tr>\n",
       "    <tr>\n",
       "      <th>16049</th>\n",
       "      <td>10</td>\n",
       "      <td>0</td>\n",
       "      <td>5</td>\n",
       "      <td>0</td>\n",
       "      <td>3</td>\n",
       "      <td>3</td>\n",
       "    </tr>\n",
       "    <tr>\n",
       "      <th>16050</th>\n",
       "      <td>10</td>\n",
       "      <td>1</td>\n",
       "      <td>4</td>\n",
       "      <td>0</td>\n",
       "      <td>1</td>\n",
       "      <td>3</td>\n",
       "    </tr>\n",
       "    <tr>\n",
       "      <th>16051</th>\n",
       "      <td>10</td>\n",
       "      <td>1</td>\n",
       "      <td>4</td>\n",
       "      <td>0</td>\n",
       "      <td>1</td>\n",
       "      <td>3</td>\n",
       "    </tr>\n",
       "  </tbody>\n",
       "</table>\n",
       "<p>16052 rows × 6 columns</p>\n",
       "</div>"
      ],
      "text/plain": [
       "       Airline  Source  Destination  Total_Stops  Journey_Day  Journey_Month\n",
       "0            0       0            2            0            6              5\n",
       "1            0       0            2            0            3              4\n",
       "2            0       0            2            0           12              6\n",
       "3            0       0            2            0           24              4\n",
       "4            0       0            2            0           18              4\n",
       "...        ...     ...          ...          ...          ...            ...\n",
       "16047       10       0            2            0            6              4\n",
       "16048       10       0            5            0            3              3\n",
       "16049       10       0            5            0            3              3\n",
       "16050       10       1            4            0            1              3\n",
       "16051       10       1            4            0            1              3\n",
       "\n",
       "[16052 rows x 6 columns]"
      ]
     },
     "execution_count": 144,
     "metadata": {},
     "output_type": "execute_result"
    }
   ],
   "source": [
    "x"
   ]
  },
  {
   "cell_type": "code",
   "execution_count": 145,
   "id": "7fe63cb5",
   "metadata": {},
   "outputs": [],
   "source": [
    "x_train,x_test,y_train,y_test=train_test_split(x,y,test_size=0.2,random_state=42)"
   ]
  },
  {
   "cell_type": "code",
   "execution_count": 146,
   "id": "bd429dc5",
   "metadata": {},
   "outputs": [],
   "source": [
    "scaler=StandardScaler()\n",
    "x_train=scaler.fit_transform(x_train)\n",
    "x_test=scaler.transform(x_test)\n"
   ]
  },
  {
   "cell_type": "code",
   "execution_count": 48,
   "id": "7f496f38",
   "metadata": {},
   "outputs": [
    {
     "data": {
      "text/plain": [
       "0.5896582909730779"
      ]
     },
     "execution_count": 48,
     "metadata": {},
     "output_type": "execute_result"
    }
   ],
   "source": [
    "# LINEAR REGRESSION\n",
    "\n",
    "lrm=LinearRegression(fit_intercept=True)\n",
    "lrm.fit(x_train,y_train)\n",
    "lrm.score(x_test,y_test)"
   ]
  },
  {
   "cell_type": "code",
   "execution_count": 147,
   "id": "57a56019",
   "metadata": {},
   "outputs": [
    {
     "data": {
      "text/plain": [
       "0.8841069185858211"
      ]
     },
     "execution_count": 147,
     "metadata": {},
     "output_type": "execute_result"
    }
   ],
   "source": [
    "# RANDOM FOREST REGRESSOR\n",
    "\n",
    "rfr=RandomForestRegressor(n_estimators=500,random_state=42)\n",
    "rfr.fit(x_train,y_train)\n",
    "\n",
    "rfr.score(x_test,y_test)\n",
    "\n"
   ]
  },
  {
   "cell_type": "code",
   "execution_count": 51,
   "id": "2db2e2d7",
   "metadata": {},
   "outputs": [
    {
     "data": {
      "text/plain": [
       "0.8323906464362459"
      ]
     },
     "execution_count": 51,
     "metadata": {},
     "output_type": "execute_result"
    }
   ],
   "source": [
    "# DECISIONTREE REGRESSOR\n",
    "\n",
    "dtr=DecisionTreeRegressor(max_depth=5)\n",
    "dtr.fit(x_train,y_train)\n",
    "dtr.score(x_test,y_test)"
   ]
  },
  {
   "cell_type": "code",
   "execution_count": null,
   "id": "42e499ba",
   "metadata": {},
   "outputs": [],
   "source": [
    "# EXTRA TREE REGRESSOR\n",
    "\n",
    "from sklearn.ensemble import ExtraTreesRegressor\n",
    "etr= ExtraTreesRegressor(n_estimators=100,random_state=42)\n",
    "etr.fit(x_train,y_train)\n",
    "etr.score(x_test,y_test)"
   ]
  },
  {
   "cell_type": "code",
   "execution_count": null,
   "id": "e2ffb68a",
   "metadata": {},
   "outputs": [],
   "source": [
    "# K-NEIGHBORS REGRESSOR\n",
    "\n",
    "knn=KNeighborsRegressor()\n",
    "knn.fit(x_train,y_train)\n",
    "knn.score(x_test,y_test)"
   ]
  },
  {
   "cell_type": "code",
   "execution_count": 148,
   "id": "86d86507",
   "metadata": {},
   "outputs": [
    {
     "data": {
      "text/plain": [
       "0.8844620673368712"
      ]
     },
     "execution_count": 148,
     "metadata": {},
     "output_type": "execute_result"
    }
   ],
   "source": [
    "# EXTREME GRADIENT BOOSTING REGRESSOR\n",
    "\n",
    "xgbr = XGBRegressor(learning_rate=0.2, max_depth=6, n_estimators=300)\n",
    "xgbr.fit(x_train, y_train)\n",
    "xgbr.score(x_test,y_test)\n"
   ]
  },
  {
   "cell_type": "code",
   "execution_count": null,
   "id": "2324d53f",
   "metadata": {},
   "outputs": [],
   "source": []
  },
  {
   "cell_type": "code",
   "execution_count": 149,
   "id": "0348caaf",
   "metadata": {},
   "outputs": [
    {
     "data": {
      "text/plain": [
       "0.8844187695344146"
      ]
     },
     "execution_count": 149,
     "metadata": {},
     "output_type": "execute_result"
    }
   ],
   "source": [
    "# GRADIENT BOOSTING REGRESSOR\n",
    "\n",
    "gbr=GradientBoostingRegressor(learning_rate=0.2,n_estimators=300,max_depth=6)\n",
    "gbr.fit(x_train,y_train)\n",
    "gbr.score(x_test,y_test)\n"
   ]
  },
  {
   "cell_type": "code",
   "execution_count": null,
   "id": "c424957e",
   "metadata": {},
   "outputs": [],
   "source": [
    "\n",
    "\n",
    "#ADABOOST REGRESSOR\n",
    "\n",
    "abr=AdaBoostRegressor(base_estimator=DecisionTreeRegressor(),learning_rate=0.2,n_estimators=250)\n",
    "abr.fit(x_train,y_train)\n",
    "abr.score(x_test,y_test)"
   ]
  },
  {
   "cell_type": "markdown",
   "id": "2c606e97",
   "metadata": {},
   "source": [
    "SVM ALGORITHM"
   ]
  },
  {
   "cell_type": "code",
   "execution_count": null,
   "id": "3a1acf2a",
   "metadata": {},
   "outputs": [],
   "source": [
    "linear=SVR(kernel=\"linear\",C=1500)\n",
    "linear.fit(x_train,y_train)\n",
    "linear.score(x_test,y_test)"
   ]
  },
  {
   "cell_type": "code",
   "execution_count": null,
   "id": "f1ab8a8f",
   "metadata": {},
   "outputs": [],
   "source": [
    "rbf=SVR()                       #RADIAL BASIS FUNCTION\n",
    "rbf.fit(x_train,y_train)\n",
    "rbf.score(x_test,y_test)"
   ]
  },
  {
   "cell_type": "code",
   "execution_count": 259,
   "id": "083eef8a",
   "metadata": {},
   "outputs": [
    {
     "data": {
      "text/plain": [
       "0.15359501606207293"
      ]
     },
     "execution_count": 259,
     "metadata": {},
     "output_type": "execute_result"
    }
   ],
   "source": [
    "sigmoid=SVR(kernel=\"sigmoid\",gamma=100,C=5)\n",
    "sigmoid.fit(x_train,y_train)\n",
    "sigmoid.score(x_test,y_test)"
   ]
  },
  {
   "cell_type": "markdown",
   "id": "9408671d",
   "metadata": {},
   "source": [
    "## MODEL EVALUATION"
   ]
  },
  {
   "cell_type": "code",
   "execution_count": 112,
   "id": "2a89e901",
   "metadata": {},
   "outputs": [],
   "source": [
    "stratified_fold = StratifiedKFold(n_splits=5, shuffle=True, random_state=42)\n",
    "\n",
    "def get_score(model, x_train, x_test, y_train, y_test):\n",
    "    model.fit(x_train, y_train)\n",
    "    return model.score(x_test, y_test)\n",
    "\n",
    "linear_regression_score = []\n",
    "decision_tree_score = []\n",
    "random_forest_score = []\n",
    "adaboost_score = []\n",
    "xgboost_score = []\n",
    "gradient_boost_score = []\n",
    "\n",
    "# Loop through the cross-validation splits using StratifiedKFold\n",
    "for train_index, test_index in stratified_fold.split(x, y):\n",
    "    # Reset the index of the DataFrame\n",
    "    x_train, x_test = x.iloc[train_index].reset_index(drop=True), x.iloc[test_index].reset_index(drop=True)\n",
    "    y_train, y_test = y.iloc[train_index].reset_index(drop=True), y.iloc[test_index].reset_index(drop=True)\n",
    "    \n",
    "    # Linear Regression\n",
    "    linear_model = LinearRegression()\n",
    "    linear_regression_score.append(get_score(linear_model, x_train, x_test, y_train, y_test))\n",
    "    \n",
    "    # Decision Tree\n",
    "    decision_tree_model = DecisionTreeRegressor(random_state=42)\n",
    "    decision_tree_score.append(get_score(decision_tree_model, x_train, x_test, y_train, y_test))\n",
    "    \n",
    "    # RandomForest\n",
    "    random_forest_model = RandomForestRegressor(random_state=42)\n",
    "    random_forest_score.append(get_score(random_forest_model, x_train, x_test, y_train, y_test))\n",
    "    \n",
    "    # AdaBoostRegressor\n",
    "    adaboost_model = AdaBoostRegressor(random_state=42)\n",
    "    adaboost_score.append(get_score(adaboost_model, x_train, x_test, y_train, y_test))\n",
    "    \n",
    "    # XGBoost\n",
    "    xgboost_model = XGBRegressor(random_state=42)\n",
    "    xgboost_score.append(get_score(xgboost_model, x_train, x_test, y_train, y_test))\n",
    "    \n",
    "    # Gradient Boosting\n",
    "    gradient_boost_model = GradientBoostingRegressor(random_state=42)\n",
    "    gradient_boost_score.append(get_score(gradient_boost_model, x_train, x_test, y_train, y_test))"
   ]
  },
  {
   "cell_type": "code",
   "execution_count": 113,
   "id": "f22e3c56",
   "metadata": {},
   "outputs": [
    {
     "data": {
      "text/plain": [
       "[0.8632566834094443,\n",
       " 0.8631615404933541,\n",
       " 0.8629477562655138,\n",
       " 0.8663003962862377,\n",
       " 0.8600081813152181]"
      ]
     },
     "execution_count": 113,
     "metadata": {},
     "output_type": "execute_result"
    }
   ],
   "source": [
    "gradient_boost_score"
   ]
  },
  {
   "cell_type": "code",
   "execution_count": 114,
   "id": "723d94eb",
   "metadata": {},
   "outputs": [
    {
     "data": {
      "text/plain": [
       "[0.8896093446074957,\n",
       " 0.8867098550203113,\n",
       " 0.8881821732191263,\n",
       " 0.8909600183413785,\n",
       " 0.886381952604056]"
      ]
     },
     "execution_count": 114,
     "metadata": {},
     "output_type": "execute_result"
    }
   ],
   "source": [
    "xgboost_score"
   ]
  },
  {
   "cell_type": "code",
   "execution_count": 115,
   "id": "51ff8e2c",
   "metadata": {},
   "outputs": [
    {
     "data": {
      "text/plain": [
       "[0.7444848548698819,\n",
       " 0.7569974501292516,\n",
       " 0.7476392571361041,\n",
       " 0.7498308156083258,\n",
       " 0.7477784189877341]"
      ]
     },
     "execution_count": 115,
     "metadata": {},
     "output_type": "execute_result"
    }
   ],
   "source": [
    "adaboost_score"
   ]
  },
  {
   "cell_type": "code",
   "execution_count": 116,
   "id": "385475a8",
   "metadata": {},
   "outputs": [
    {
     "data": {
      "text/plain": [
       "[0.8892723056913013,\n",
       " 0.8867708571684441,\n",
       " 0.8877936957875932,\n",
       " 0.8909064191099159,\n",
       " 0.8856918614442235]"
      ]
     },
     "execution_count": 116,
     "metadata": {},
     "output_type": "execute_result"
    }
   ],
   "source": [
    "random_forest_score"
   ]
  },
  {
   "cell_type": "code",
   "execution_count": 117,
   "id": "170ae33e",
   "metadata": {},
   "outputs": [
    {
     "data": {
      "text/plain": [
       "[0.5537842227870757,\n",
       " 0.5473345470660052,\n",
       " 0.5443699213658846,\n",
       " 0.5547149552831199,\n",
       " 0.5495124825566271]"
      ]
     },
     "execution_count": 117,
     "metadata": {},
     "output_type": "execute_result"
    }
   ],
   "source": [
    "linear_regression_score"
   ]
  },
  {
   "cell_type": "markdown",
   "id": "fc62ced9",
   "metadata": {},
   "source": [
    "## HYPERPARAMETER TUNING"
   ]
  },
  {
   "cell_type": "code",
   "execution_count": 150,
   "id": "661215b0",
   "metadata": {},
   "outputs": [],
   "source": [
    "model_params = {\n",
    "    \"random_forest\": {\"model\": RandomForestRegressor(), \"params\": {\"n_estimators\": [50, 200, 100,500], \"random_state\": [42, 100,200, 500]}},\n",
    "    \"linear_regression\": {\"model\": LinearRegression(), \"params\": {\"fit_intercept\": [True, False]}},\n",
    "    \"adaboost\": {\"model\": AdaBoostRegressor(base_estimator=DecisionTreeRegressor()), \"params\": {\"n_estimators\": [50, 100, 200,500], \"learning_rate\": [0.25, 0.1, 0.2]}},\n",
    "    \"gradient_boosting\": {\"model\": GradientBoostingRegressor(), \"params\": {\"n_estimators\": [100, 200,300,50], \"learning_rate\": [0.1, 0.25, 0.2], \"max_depth\": [4, 5, 6, 7]}},\n",
    "    \"xgboost\": {\"model\": XGBRegressor(), \"params\": {\"n_estimators\": [65, 100, 200,300], \"learning_rate\": [0.1, 0.15, 0.2, 0.25], \"max_depth\": [4, 5, 6, 7]}},\n",
    "    \"decision_tree\": {\"model\": DecisionTreeRegressor(), \"params\": {\"max_depth\": [5, 6, 7]}}\n",
    "}\n",
    "\n",
    "scores = []\n",
    "models = [\"random_forest\", \"linear_regression\", \"adaboost\", \"gradient_boosting\", \"xgboost\", \"decision_tree\"]\n",
    "\n",
    "for model_name in models:\n",
    "    mp = model_params[model_name]\n",
    "    gds = GridSearchCV(mp[\"model\"], mp[\"params\"], cv=5, return_train_score=True)\n",
    "    gds.fit(x_train, y_train)\n",
    "    scores.append({\"model\": model_name, \"best_score\": gds.best_score_, \"best_params\": gds.best_params_})"
   ]
  },
  {
   "cell_type": "code",
   "execution_count": 151,
   "id": "54683531",
   "metadata": {},
   "outputs": [
    {
     "data": {
      "text/html": [
       "<div>\n",
       "<style scoped>\n",
       "    .dataframe tbody tr th:only-of-type {\n",
       "        vertical-align: middle;\n",
       "    }\n",
       "\n",
       "    .dataframe tbody tr th {\n",
       "        vertical-align: top;\n",
       "    }\n",
       "\n",
       "    .dataframe thead th {\n",
       "        text-align: right;\n",
       "    }\n",
       "</style>\n",
       "<table border=\"1\" class=\"dataframe\">\n",
       "  <thead>\n",
       "    <tr style=\"text-align: right;\">\n",
       "      <th></th>\n",
       "      <th>model</th>\n",
       "      <th>best_score</th>\n",
       "      <th>best_params</th>\n",
       "    </tr>\n",
       "  </thead>\n",
       "  <tbody>\n",
       "    <tr>\n",
       "      <th>0</th>\n",
       "      <td>random_forest</td>\n",
       "      <td>0.884622</td>\n",
       "      <td>{'n_estimators': 500, 'random_state': 42}</td>\n",
       "    </tr>\n",
       "    <tr>\n",
       "      <th>1</th>\n",
       "      <td>linear_regression</td>\n",
       "      <td>0.548331</td>\n",
       "      <td>{'fit_intercept': True}</td>\n",
       "    </tr>\n",
       "    <tr>\n",
       "      <th>2</th>\n",
       "      <td>adaboost</td>\n",
       "      <td>0.876591</td>\n",
       "      <td>{'learning_rate': 0.1, 'n_estimators': 50}</td>\n",
       "    </tr>\n",
       "    <tr>\n",
       "      <th>3</th>\n",
       "      <td>gradient_boosting</td>\n",
       "      <td>0.886237</td>\n",
       "      <td>{'learning_rate': 0.2, 'max_depth': 6, 'n_esti...</td>\n",
       "    </tr>\n",
       "    <tr>\n",
       "      <th>4</th>\n",
       "      <td>xgboost</td>\n",
       "      <td>0.886358</td>\n",
       "      <td>{'learning_rate': 0.15, 'max_depth': 6, 'n_est...</td>\n",
       "    </tr>\n",
       "    <tr>\n",
       "      <th>5</th>\n",
       "      <td>decision_tree</td>\n",
       "      <td>0.868701</td>\n",
       "      <td>{'max_depth': 7}</td>\n",
       "    </tr>\n",
       "  </tbody>\n",
       "</table>\n",
       "</div>"
      ],
      "text/plain": [
       "               model  best_score  \\\n",
       "0      random_forest    0.884622   \n",
       "1  linear_regression    0.548331   \n",
       "2           adaboost    0.876591   \n",
       "3  gradient_boosting    0.886237   \n",
       "4            xgboost    0.886358   \n",
       "5      decision_tree    0.868701   \n",
       "\n",
       "                                         best_params  \n",
       "0          {'n_estimators': 500, 'random_state': 42}  \n",
       "1                            {'fit_intercept': True}  \n",
       "2         {'learning_rate': 0.1, 'n_estimators': 50}  \n",
       "3  {'learning_rate': 0.2, 'max_depth': 6, 'n_esti...  \n",
       "4  {'learning_rate': 0.15, 'max_depth': 6, 'n_est...  \n",
       "5                                   {'max_depth': 7}  "
      ]
     },
     "execution_count": 151,
     "metadata": {},
     "output_type": "execute_result"
    }
   ],
   "source": [
    "df=pd.DataFrame(scores)\n",
    "df"
   ]
  },
  {
   "cell_type": "code",
   "execution_count": 152,
   "id": "7a3a2ba4",
   "metadata": {},
   "outputs": [
    {
     "data": {
      "text/plain": [
       "[{'model': 'random_forest',\n",
       "  'best_score': 0.8846219697417219,\n",
       "  'best_params': {'n_estimators': 500, 'random_state': 42}},\n",
       " {'model': 'linear_regression',\n",
       "  'best_score': 0.5483312059772343,\n",
       "  'best_params': {'fit_intercept': True}},\n",
       " {'model': 'adaboost',\n",
       "  'best_score': 0.8765908045357579,\n",
       "  'best_params': {'learning_rate': 0.1, 'n_estimators': 50}},\n",
       " {'model': 'gradient_boosting',\n",
       "  'best_score': 0.8862373672827717,\n",
       "  'best_params': {'learning_rate': 0.2, 'max_depth': 6, 'n_estimators': 100}},\n",
       " {'model': 'xgboost',\n",
       "  'best_score': 0.8863581206683822,\n",
       "  'best_params': {'learning_rate': 0.15, 'max_depth': 6, 'n_estimators': 200}},\n",
       " {'model': 'decision_tree',\n",
       "  'best_score': 0.8687008408213517,\n",
       "  'best_params': {'max_depth': 7}}]"
      ]
     },
     "execution_count": 152,
     "metadata": {},
     "output_type": "execute_result"
    }
   ],
   "source": [
    "scores"
   ]
  },
  {
   "cell_type": "markdown",
   "id": "51b257ec",
   "metadata": {},
   "source": [
    "## BEST MODEL"
   ]
  },
  {
   "cell_type": "code",
   "execution_count": 153,
   "id": "60a2eada",
   "metadata": {},
   "outputs": [
    {
     "data": {
      "text/plain": [
       "0.8840539408683266"
      ]
     },
     "execution_count": 153,
     "metadata": {},
     "output_type": "execute_result"
    }
   ],
   "source": [
    "final_model= XGBRegressor(learning_rate=0.15, max_depth=6, n_estimators=200)\n",
    "final_model.fit(x_train,y_train)\n",
    "final_model.score(x_test,y_test)"
   ]
  },
  {
   "cell_type": "code",
   "execution_count": null,
   "id": "ecad98a7",
   "metadata": {},
   "outputs": [],
   "source": []
  },
  {
   "cell_type": "code",
   "execution_count": 154,
   "id": "1f667c2f",
   "metadata": {},
   "outputs": [
    {
     "data": {
      "text/plain": [
       "0.8934786723884113"
      ]
     },
     "execution_count": 154,
     "metadata": {},
     "output_type": "execute_result"
    }
   ],
   "source": [
    "final_model.score(x_train,y_train)"
   ]
  },
  {
   "cell_type": "code",
   "execution_count": 155,
   "id": "af1e0ed9",
   "metadata": {},
   "outputs": [],
   "source": [
    "y_pred=final_model.predict(x_test)"
   ]
  },
  {
   "cell_type": "code",
   "execution_count": 156,
   "id": "184b2dfa",
   "metadata": {},
   "outputs": [
    {
     "data": {
      "image/png": "[encoded data removed]",
      "text/plain": [
       "<Figure size 640x480 with 1 Axes>"
      ]
     },
     "metadata": {},
     "output_type": "display_data"
    }
   ],
   "source": [
    "plt.scatter(y_test, y_pred)\n",
    "plt.plot([min(y_test), max(y_test)], [min(y_test), max(y_test)], color='red', label='Perfect Fit')\n",
    "plt.xlabel(\"y_test\")\n",
    "plt.ylabel(\"y_pred\")\n",
    "plt.show()"
   ]
  },
  {
   "cell_type": "markdown",
   "id": "b7cdfc44",
   "metadata": {},
   "source": [
    "This scatter plot represent the performance of the model in predicting values and it is showing good performance"
   ]
  },
  {
   "cell_type": "markdown",
   "id": "13df3d63",
   "metadata": {},
   "source": [
    "## MODEL SAVING\n"
   ]
  },
  {
   "cell_type": "code",
   "execution_count": 2,
   "id": "a48466f9",
   "metadata": {},
   "outputs": [],
   "source": [
    "import joblib"
   ]
  },
  {
   "cell_type": "code",
   "execution_count": 3,
   "id": "cd3313cb",
   "metadata": {},
   "outputs": [
    {
     "ename": "NameError",
     "evalue": "name 'final_model' is not defined",
     "output_type": "error",
     "traceback": [
      "\u001b[1;31m---------------------------------------------------------------------------\u001b[0m",
      "\u001b[1;31mNameError\u001b[0m                                 Traceback (most recent call last)",
      "Cell \u001b[1;32mIn[3], line 1\u001b[0m\n\u001b[1;32m----> 1\u001b[0m joblib\u001b[38;5;241m.\u001b[39mdump(\u001b[43mfinal_model\u001b[49m,\u001b[38;5;124m\"\u001b[39m\u001b[38;5;124mFLIGHT_DATA2.CSV\u001b[39m\u001b[38;5;124m\"\u001b[39m)\n",
      "\u001b[1;31mNameError\u001b[0m: name 'final_model' is not defined"
     ]
    }
   ],
   "source": [
    "joblib.dump(final_model,\"FLIGHT_DATA2.CSV\")"
   ]
  },
  {
   "cell_type": "code",
   "execution_count": 4,
   "id": "c83f8691",
   "metadata": {},
   "outputs": [],
   "source": [
    "joblib_reload=joblib.load(\"FLIGHT_DATA2.csv\")"
   ]
  },
  {
   "cell_type": "code",
   "execution_count": null,
   "id": "801ea349",
   "metadata": {},
   "outputs": [],
   "source": []
  },
  {
   "cell_type": "code",
   "execution_count": null,
   "id": "7c046872",
   "metadata": {},
   "outputs": [],
   "source": []
  },
  {
   "cell_type": "markdown",
   "id": "627f47f9",
   "metadata": {},
   "source": [
    "## USER INPUTTING AND PREDICTION"
   ]
  },
  {
   "cell_type": "code",
   "execution_count": 157,
   "id": "58fa43bd",
   "metadata": {},
   "outputs": [
    {
     "name": "stdout",
     "output_type": "stream",
     "text": [
      "enter the airline name:['IndiGo','Jet Airways', 'SpiceJet','Multiple carriers','Air India', 'GoAir', 'Vistara', 'Air Asia','Vistara Premium economy','Multiple carriers Premium economy', 'Trujet'] \n",
      "IndiGo\n",
      "enter the boarding destination:['Banglore', 'Kolkata', 'Delhi', 'Chennai', 'Mumbai']\n",
      "Banglore\n",
      "enter the arrival destination:['New Delhi', 'Banglore', 'Cochin', 'Kolkata', 'Delhi', 'Hyderabad']\n",
      "New Delhi\n",
      "enter number of stops:[0,1,2,3,4]\n",
      "0\n"
     ]
    }
   ],
   "source": [
    "airline1=input(\"enter the airline name:['IndiGo','Jet Airways', 'SpiceJet','Multiple carriers','Air India', 'GoAir', 'Vistara', 'Air Asia','Vistara Premium economy','Multiple carriers Premium economy', 'Trujet'] \\n\")\n",
    "               \n",
    "airline1=int(airline.transform([airline1]))\n",
    "\n",
    "source1=input(\"enter the boarding destination:['Banglore', 'Kolkata', 'Delhi', 'Chennai', 'Mumbai']\\n\")\n",
    "source1=int(source.transform([source1]))\n",
    "            \n",
    "destination1=input(\"enter the arrival destination:['New Delhi', 'Banglore', 'Cochin', 'Kolkata', 'Delhi', 'Hyderabad']\\n\")\n",
    "destination1=int(destination.transform([destination1]))\n",
    "\n",
    "\n",
    "total_stops=int(input(\"enter number of stops:[0,1,2,3,4]\\n\"))  \n",
    "\n",
    "\n",
    "\n",
    "\n",
    "\n",
    "\n",
    "\n",
    "\n",
    "\n",
    "    "
   ]
  },
  {
   "cell_type": "code",
   "execution_count": 158,
   "id": "819544aa",
   "metadata": {},
   "outputs": [
    {
     "name": "stdout",
     "output_type": "stream",
     "text": [
      "enter the journey date day \n",
      "15\n",
      "enter the journey date month \n",
      "2\n"
     ]
    }
   ],
   "source": [
    "# dep_hour=int(input(\"enter departure time hour \\n\"))   \n",
    "# dep_min=int(input(\"enter departure time  minute \\n\"))   \n",
    "\n",
    "# arrival_hour=int(input(\"enter the arrival time hour \\n\"))   \n",
    "# arrival_min=int(input(\"enterthe arrival time minute \\n\"))   \n",
    "\n",
    "journey_day=int(input(\"enter the journey date day \\n\"))   \n",
    "journey_month=int(input(\"enter the journey date month \\n\"))\n",
    "\n",
    "\n",
    "\n"
   ]
  },
  {
   "cell_type": "code",
   "execution_count": 57,
   "id": "11e628d3",
   "metadata": {},
   "outputs": [
    {
     "name": "stdout",
     "output_type": "stream",
     "text": [
      "enter the flight duration hour:[0-40] \n",
      "1\n",
      "enter the flight duration minutes:[50, 25,  0, 45, 30,  5, 15, 35, 10, 20, 55, 40]\n",
      "]5\n"
     ]
    }
   ],
   "source": [
    "# dur_hour=int(input(\"enter the flight duration hour:[0-40] \\n\"))\n",
    "# dur_min=int(input(\"enter the flight duration minutes:[50, 25,  0, 45, 30,  5, 15, 35, 10, 20, 55, 40]\\n]\"))\n",
    "\n"
   ]
  },
  {
   "cell_type": "code",
   "execution_count": 159,
   "id": "722c5f9d",
   "metadata": {},
   "outputs": [
    {
     "name": "stdout",
     "output_type": "stream",
     "text": [
      "Predicted Price of ticket: Rs 7318\n"
     ]
    }
   ],
   "source": [
    "#final_model.predict([['airline1','source1','destination1','total_stops','dep_hour','dep_min','arrival_hour','arrival_min','journey_day','journey_month']])\n",
    "input_features = [airline1, source1, destination1, total_stops, journey_day, journey_month]\n",
    "\n",
    "#Convert the list to a numpy array for prediction\n",
    "input_array = np.array(input_features).reshape(1, -1)\n",
    "\n",
    "# # Make predictions\n",
    "prediction = final_model.predict(input_array)\n",
    "\n",
    "print(\"Predicted Price of ticket: Rs\", int(prediction))"
   ]
  },
  {
   "cell_type": "code",
   "execution_count": null,
   "id": "281a49a4",
   "metadata": {},
   "outputs": [],
   "source": []
  },
  {
   "cell_type": "code",
   "execution_count": null,
   "id": "91ea6695",
   "metadata": {},
   "outputs": [],
   "source": []
  }
 ],
 "metadata": {
  "kernelspec": {
   "display_name": "Python 3 (ipykernel)",
   "language": "python",
   "name": "python3"
  },
  "language_info": {
   "codemirror_mode": {
    "name": "ipython",
    "version": 3
   },
   "file_extension": ".py",
   "mimetype": "text/x-python",
   "name": "python",
   "nbconvert_exporter": "python",
   "pygments_lexer": "ipython3",
   "version": "3.11.5"
  }
 },
 "nbformat": 4,
 "nbformat_minor": 5
}
